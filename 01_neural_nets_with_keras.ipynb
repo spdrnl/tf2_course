{
  "nbformat": 4,
  "nbformat_minor": 0,
  "metadata": {
    "kernelspec": {
      "display_name": "Python 3",
      "language": "python",
      "name": "python3"
    },
    "language_info": {
      "codemirror_mode": {
        "name": "ipython",
        "version": 3
      },
      "file_extension": ".py",
      "mimetype": "text/x-python",
      "name": "python",
      "nbconvert_exporter": "python",
      "pygments_lexer": "ipython3",
      "version": "3.6.8"
    },
    "colab": {
      "name": "01_neural_nets_with_keras.ipynb",
      "provenance": []
    }
  },
  "cells": [
    {
      "cell_type": "markdown",
      "metadata": {
        "collapsed": true,
        "id": "YYhbNFWmydfL",
        "colab_type": "text"
      },
      "source": [
        "# Neural Nets with Keras"
      ]
    },
    {
      "cell_type": "markdown",
      "metadata": {
        "id": "ivWZwzf7ydfR",
        "colab_type": "text"
      },
      "source": [
        "In this notebook you will learn how to implement neural networks using the Keras API. We will use TensorFlow's own implementation, *tf.keras*, which comes bundled with TensorFlow."
      ]
    },
    {
      "cell_type": "code",
      "metadata": {
        "id": "t1iuIkHoziQI",
        "colab_type": "code",
        "colab": {
          "base_uri": "https://localhost:8080/",
          "height": 34
        },
        "outputId": "8b1ebffd-16f6-4e87-8ef0-2ee296f69c08"
      },
      "source": [
        "%tensorflow_version 2.x"
      ],
      "execution_count": 2,
      "outputs": [
        {
          "output_type": "stream",
          "text": [
            "TensorFlow is already loaded. Please restart the runtime to change versions.\n"
          ],
          "name": "stdout"
        }
      ]
    },
    {
      "cell_type": "markdown",
      "metadata": {
        "id": "aBu66VdWydfV",
        "colab_type": "text"
      },
      "source": [
        "Don't hesitate to look at the documentation at [keras.io](https://keras.io/). All the code examples should work fine with tf.keras, the only difference is how to import Keras:\n",
        "\n",
        "```python\n",
        "# keras.io code:\n",
        "from keras.layers import Dense\n",
        "output_layer = Dense(10)\n",
        "\n",
        "# corresponding tf.keras code:\n",
        "from tensorflow.keras.layers import Dense\n",
        "output_layer = Dense(10)\n",
        "\n",
        "# or:\n",
        "from tensorflow import keras\n",
        "output_layer = keras.layers.Dense(10)\n",
        "```\n",
        "\n",
        "In this notebook, we will not use any TensorFlow-specific code, so everything you see would run just the same way on [keras-team](https://github.com/keras-team/keras) or any other Python implementation of the Keras API (except for the imports)."
      ]
    },
    {
      "cell_type": "markdown",
      "metadata": {
        "id": "CV7NHpRmydfX",
        "colab_type": "text"
      },
      "source": [
        "## Imports"
      ]
    },
    {
      "cell_type": "code",
      "metadata": {
        "id": "WQeLJ0rXydfb",
        "colab_type": "code",
        "colab": {}
      },
      "source": [
        "%matplotlib inline\n",
        "%load_ext tensorboard"
      ],
      "execution_count": 0,
      "outputs": []
    },
    {
      "cell_type": "code",
      "metadata": {
        "id": "uKmuIpLhydfj",
        "colab_type": "code",
        "colab": {}
      },
      "source": [
        "import matplotlib as mpl\n",
        "import matplotlib.pyplot as plt\n",
        "import numpy as np\n",
        "import os\n",
        "import pandas as pd\n",
        "import sklearn\n",
        "import sys\n",
        "import tensorflow as tf\n",
        "from tensorflow import keras  # tf.keras\n",
        "import time"
      ],
      "execution_count": 0,
      "outputs": []
    },
    {
      "cell_type": "code",
      "metadata": {
        "id": "87LNwC5kydfq",
        "colab_type": "code",
        "colab": {}
      },
      "source": [
        "print(\"python\", sys.version)\n",
        "for module in mpl, np, pd, sklearn, tf, keras:\n",
        "    print(module.__name__, module.__version__)"
      ],
      "execution_count": 0,
      "outputs": []
    },
    {
      "cell_type": "code",
      "metadata": {
        "id": "EVI8ArE3ydfw",
        "colab_type": "code",
        "colab": {}
      },
      "source": [
        "assert sys.version_info >= (3, 5) # Python ≥3.5 required\n",
        "assert tf.__version__ >= \"2.0\"    # TensorFlow ≥2.0 required"
      ],
      "execution_count": 0,
      "outputs": []
    },
    {
      "cell_type": "markdown",
      "metadata": {
        "id": "Fk2jkvqUydf2",
        "colab_type": "text"
      },
      "source": [
        "![Exercise](https://c1.staticflickr.com/9/8101/8553474140_c50cf08708_b.jpg)"
      ]
    },
    {
      "cell_type": "markdown",
      "metadata": {
        "id": "CcRf7hvRydf4",
        "colab_type": "text"
      },
      "source": [
        "## Exercise 1 – TensorFlow Playground"
      ]
    },
    {
      "cell_type": "markdown",
      "metadata": {
        "id": "kaY-Kz_zydf5",
        "colab_type": "text"
      },
      "source": [
        "Visit the [TensorFlow Playground](http://playground.tensorflow.org).\n",
        "* **Layers and patterns**: try training the default neural network by clicking the \"Run\" button (top left). Notice how it quickly finds a good solution for the classification task. Notice that the neurons in the first hidden layer have learned simple patterns, while the neurons in the second hidden layer have learned to combine the simple patterns of the first hidden layer into more complex patterns). In general, the more layers, the more complex the patterns can be.\n",
        "* **Activation function**: try replacing the Tanh activation function with the ReLU activation function, and train the network again. Notice that it finds a solution even faster, but this time the boundaries are linear. This is due to the shape of the ReLU function.\n",
        "* **Local minima**: modify the network architecture to have just one hidden layer with three neurons. Train it multiple times (to reset the network weights, just add and remove a neuron). Notice that the training time varies a lot, and sometimes it even gets stuck in a local minimum.\n",
        "* **Too small**: now remove one neuron to keep just 2. Notice that the neural network is now incapable of finding a good solution, even if you try multiple times. The model has too few parameters and it systematically underfits the training set.\n",
        "* **Large enough**: next, set the number of neurons to 8 and train the network several times. Notice that it is now consistently fast and never gets stuck. This highlights an important finding in neural network theory: large neural networks almost never get stuck in local minima, and even when they do these local optima are almost as good as the global optimum. However, they can still get stuck on long plateaus for a long time.\n",
        "* **Deep net and vanishing gradients**: now change the dataset to be the spiral (bottom right dataset under \"DATA\"). Change the network architecture to have 4 hidden layers with 8 neurons each. Notice that training takes much longer, and often gets stuck on plateaus for long periods of time. Also notice that the neurons in the highest layers (i.e. on the right) tend to evolve faster than the neurons in the lowest layers (i.e. on the left). This problem, called the \"vanishing gradients\" problem, can be alleviated using better weight initialization and other techniques, better optimizers (such as AdaGrad or Adam), or using Batch Normalization.\n",
        "* **More**: go ahead and play with the other parameters to get a feel of what they do. In fact, after this course you should definitely play with this UI for at least one hour, it will grow your intuitions about neural networks significantly."
      ]
    },
    {
      "cell_type": "markdown",
      "metadata": {
        "id": "ckA0jiH7ydf7",
        "colab_type": "text"
      },
      "source": [
        "![Exercise](https://c1.staticflickr.com/9/8101/8553474140_c50cf08708_b.jpg)"
      ]
    },
    {
      "cell_type": "markdown",
      "metadata": {
        "id": "qDPyerbyydf9",
        "colab_type": "text"
      },
      "source": [
        "## Exercise 2 – Image classification with tf.keras"
      ]
    },
    {
      "cell_type": "markdown",
      "metadata": {
        "id": "LF5LHzLnydf_",
        "colab_type": "text"
      },
      "source": [
        "### Load the Fashion MNIST dataset"
      ]
    },
    {
      "cell_type": "markdown",
      "metadata": {
        "id": "2fKRq1nKydgA",
        "colab_type": "text"
      },
      "source": [
        "Let's start by loading the fashion MNIST dataset. Keras has a number of functions to load popular datasets in `keras.datasets`. The dataset is already split for you between a training set and a test set, but it can be useful to split the training set further to have a validation set:"
      ]
    },
    {
      "cell_type": "code",
      "metadata": {
        "id": "6Mg43Tg_ydgC",
        "colab_type": "code",
        "colab": {}
      },
      "source": [
        "fashion_mnist = keras.datasets.fashion_mnist\n",
        "(X_train_full, y_train_full), (X_test, y_test) = (\n",
        "    fashion_mnist.load_data())\n",
        "X_valid, X_train = X_train_full[:5000], X_train_full[5000:]\n",
        "y_valid, y_train = y_train_full[:5000], y_train_full[5000:]"
      ],
      "execution_count": 0,
      "outputs": []
    },
    {
      "cell_type": "markdown",
      "metadata": {
        "id": "Y9zKelSWydgI",
        "colab_type": "text"
      },
      "source": [
        "The training set contains 55,000 grayscale images, each 28x28 pixels:"
      ]
    },
    {
      "cell_type": "code",
      "metadata": {
        "id": "jtjHFBwjydgK",
        "colab_type": "code",
        "colab": {}
      },
      "source": [
        "X_train.shape"
      ],
      "execution_count": 0,
      "outputs": []
    },
    {
      "cell_type": "markdown",
      "metadata": {
        "id": "hKENerbBydgP",
        "colab_type": "text"
      },
      "source": [
        "Each pixel intensity is represented by a uint8 (byte) from 0 to 255:"
      ]
    },
    {
      "cell_type": "code",
      "metadata": {
        "id": "576hOEmpydgQ",
        "colab_type": "code",
        "colab": {}
      },
      "source": [
        "X_train[0]"
      ],
      "execution_count": 0,
      "outputs": []
    },
    {
      "cell_type": "markdown",
      "metadata": {
        "id": "qVX_avXYydgW",
        "colab_type": "text"
      },
      "source": [
        "You can plot an image using Matplotlib's `imshow()` function, with a `'binary'`\n",
        " color map:"
      ]
    },
    {
      "cell_type": "code",
      "metadata": {
        "id": "NaKwKT9JydgY",
        "colab_type": "code",
        "colab": {}
      },
      "source": [
        "plt.imshow(X_train[0], cmap=\"binary\")\n",
        "plt.show()"
      ],
      "execution_count": 0,
      "outputs": []
    },
    {
      "cell_type": "markdown",
      "metadata": {
        "id": "QAExM7vMydgc",
        "colab_type": "text"
      },
      "source": [
        "The labels are the class IDs (represented as uint8), from 0 to 9:"
      ]
    },
    {
      "cell_type": "code",
      "metadata": {
        "id": "egqemYjAydgc",
        "colab_type": "code",
        "colab": {}
      },
      "source": [
        "y_train"
      ],
      "execution_count": 0,
      "outputs": []
    },
    {
      "cell_type": "markdown",
      "metadata": {
        "id": "tB3Oyn2Uydgh",
        "colab_type": "text"
      },
      "source": [
        "Here are the corresponding class names:"
      ]
    },
    {
      "cell_type": "code",
      "metadata": {
        "id": "qRGtQUIOydgi",
        "colab_type": "code",
        "colab": {}
      },
      "source": [
        "class_names = [\"T-shirt/top\", \"Trouser\", \"Pullover\", \"Dress\", \"Coat\",\n",
        "               \"Sandal\", \"Shirt\", \"Sneaker\", \"Bag\", \"Ankle boot\"]"
      ],
      "execution_count": 0,
      "outputs": []
    },
    {
      "cell_type": "markdown",
      "metadata": {
        "id": "P0DH1feoydgn",
        "colab_type": "text"
      },
      "source": [
        "So the first image in the training set is a coat:"
      ]
    },
    {
      "cell_type": "code",
      "metadata": {
        "id": "tAkJORshydgo",
        "colab_type": "code",
        "colab": {}
      },
      "source": [
        "class_names[y_train[0]]"
      ],
      "execution_count": 0,
      "outputs": []
    },
    {
      "cell_type": "markdown",
      "metadata": {
        "id": "3ExTIcjsydgt",
        "colab_type": "text"
      },
      "source": [
        "The validation set contains 5,000 images, and the test set contains 10,000 images:"
      ]
    },
    {
      "cell_type": "code",
      "metadata": {
        "id": "9UfKF9AVydgv",
        "colab_type": "code",
        "colab": {}
      },
      "source": [
        "X_valid.shape"
      ],
      "execution_count": 0,
      "outputs": []
    },
    {
      "cell_type": "code",
      "metadata": {
        "id": "D59z-e_Oydgy",
        "colab_type": "code",
        "colab": {}
      },
      "source": [
        "X_test.shape"
      ],
      "execution_count": 0,
      "outputs": []
    },
    {
      "cell_type": "markdown",
      "metadata": {
        "id": "JBnCnx_Rydg2",
        "colab_type": "text"
      },
      "source": [
        "Let's take a look at a sample of the images in the dataset:"
      ]
    },
    {
      "cell_type": "code",
      "metadata": {
        "id": "5MROMMOAydg4",
        "colab_type": "code",
        "colab": {}
      },
      "source": [
        "n_rows = 5\n",
        "n_cols = 10\n",
        "plt.figure(figsize=(n_cols*1.4, n_rows * 1.6))\n",
        "for row in range(n_rows):\n",
        "    for col in range(n_cols):\n",
        "        index = n_cols * row + col\n",
        "        plt.subplot(n_rows, n_cols, index + 1)\n",
        "        plt.imshow(X_train[index], cmap=\"binary\", interpolation=\"nearest\")\n",
        "        plt.axis('off')\n",
        "        plt.title(class_names[y_train[index]])\n",
        "plt.show()"
      ],
      "execution_count": 0,
      "outputs": []
    },
    {
      "cell_type": "markdown",
      "metadata": {
        "id": "-GSpVcUOydg7",
        "colab_type": "text"
      },
      "source": [
        "This dataset has the same structure as the famous MNIST dataset (which you can load using `keras.datasets.mnist.load_data()`), except the images represent fashion items rather than handwritten digits, and it is much more challenging. A simple linear model can reach 92% accuracy on MNIST, but only 83% on fashion MNIST."
      ]
    },
    {
      "cell_type": "markdown",
      "metadata": {
        "id": "n4ClBCZyydg9",
        "colab_type": "text"
      },
      "source": [
        "### Build a classification neural network with Keras"
      ]
    },
    {
      "cell_type": "markdown",
      "metadata": {
        "id": "7dgJEBXvydg_",
        "colab_type": "text"
      },
      "source": [
        "### 2.1)\n",
        "Build a `Sequential` model (`keras.models.Sequential`), without any argument, then and add four layers to it by calling its `add()` method:\n",
        "  * a `Flatten` layer (`keras.layers.Flatten`) to convert each 28x28 image to a single row of 784 pixel values. Since it is the first layer in your model, you should specify the `input_shape` argument, leaving out the batch size: `[28, 28]`.\n",
        "  * a `Dense` layer  (`keras.layers.Dense`) with 300 neurons (aka units), and the `\"relu\"` activation function.\n",
        "  * Another `Dense` layer with 100 neurons, also with the `\"relu\"` activation function.\n",
        "  * A final `Dense` layer with 10 neurons (one per class), and with the `\"softmax\"` activation function to ensure that the sum of all the estimated class probabilities for each image is equal to 1."
      ]
    },
    {
      "cell_type": "code",
      "metadata": {
        "id": "Gqxl8whiydhB",
        "colab_type": "code",
        "colab": {}
      },
      "source": [
        "model = keras.models.Sequential()\n",
        "model.add(keras.layers.Flatten(input_shape=[28,28]))\n",
        "model.add(keras.layers.Dense(300, activation=\"relu\"))"
      ],
      "execution_count": 0,
      "outputs": []
    },
    {
      "cell_type": "code",
      "metadata": {
        "id": "1Z_O5od0ydhE",
        "colab_type": "code",
        "colab": {}
      },
      "source": [
        ""
      ],
      "execution_count": 0,
      "outputs": []
    },
    {
      "cell_type": "markdown",
      "metadata": {
        "id": "wYTOFs-fydhI",
        "colab_type": "text"
      },
      "source": [
        "### 2.2)\n",
        "Alternatively, you can pass a list containing the 4 layers to the constructor of the `Sequential` model. The model's `layers` attribute holds the list of layers."
      ]
    },
    {
      "cell_type": "code",
      "metadata": {
        "id": "EevppssuydhX",
        "colab_type": "code",
        "colab": {}
      },
      "source": [
        ""
      ],
      "execution_count": 0,
      "outputs": []
    },
    {
      "cell_type": "code",
      "metadata": {
        "id": "OVjC-re-ydhZ",
        "colab_type": "code",
        "colab": {}
      },
      "source": [
        ""
      ],
      "execution_count": 0,
      "outputs": []
    },
    {
      "cell_type": "code",
      "metadata": {
        "id": "pPTuJhBFydhc",
        "colab_type": "code",
        "colab": {}
      },
      "source": [
        ""
      ],
      "execution_count": 0,
      "outputs": []
    },
    {
      "cell_type": "markdown",
      "metadata": {
        "id": "5Cdjp6Zcydhe",
        "colab_type": "text"
      },
      "source": [
        "### 2.3)\n",
        "Call the model's `summary()` method and examine the output. Also, try using `keras.utils.plot_model()` to save an image of your model's architecture. Alternatively, you can uncomment the following code to display the image within Jupyter."
      ]
    },
    {
      "cell_type": "markdown",
      "metadata": {
        "id": "GvnPK6G1ydhg",
        "colab_type": "text"
      },
      "source": [
        "**Warning**: you will need `pydot` and `graphviz` to use `plot_model()`."
      ]
    },
    {
      "cell_type": "code",
      "metadata": {
        "id": "P0nweXYiydhh",
        "colab_type": "code",
        "colab": {}
      },
      "source": [
        ""
      ],
      "execution_count": 0,
      "outputs": []
    },
    {
      "cell_type": "code",
      "metadata": {
        "id": "hkkkGG1Xydhl",
        "colab_type": "code",
        "colab": {}
      },
      "source": [
        ""
      ],
      "execution_count": 0,
      "outputs": []
    },
    {
      "cell_type": "code",
      "metadata": {
        "id": "gP4aW2nwydhq",
        "colab_type": "code",
        "colab": {}
      },
      "source": [
        ""
      ],
      "execution_count": 0,
      "outputs": []
    },
    {
      "cell_type": "markdown",
      "metadata": {
        "id": "XBap9qXKydht",
        "colab_type": "text"
      },
      "source": [
        "### 2.4)\n",
        "After a model is created, you must call its `compile()` method to specify the `loss` function and the `optimizer` to use. In this case, you want to use the `\"sparse_categorical_crossentropy\"` loss, and the `keras.optimizers.SGD(lr=1e-3)` optimizer (stochastic gradient descent with a learning rate of 1e-3). Moreover, you can optionally specify a list of additional metrics that should be measured during training. In this case you should specify `metrics=[\"accuracy\"]`. **Note**: you can find more loss functions in `keras.losses`, more metrics in `keras.metrics` and more optimizers in `keras.optimizers`."
      ]
    },
    {
      "cell_type": "code",
      "metadata": {
        "id": "MrVs-XCbydhu",
        "colab_type": "code",
        "colab": {}
      },
      "source": [
        ""
      ],
      "execution_count": 0,
      "outputs": []
    },
    {
      "cell_type": "code",
      "metadata": {
        "id": "iAsfgc_eydhx",
        "colab_type": "code",
        "colab": {}
      },
      "source": [
        ""
      ],
      "execution_count": 0,
      "outputs": []
    },
    {
      "cell_type": "code",
      "metadata": {
        "id": "KLm9P27Uydh0",
        "colab_type": "code",
        "colab": {}
      },
      "source": [
        ""
      ],
      "execution_count": 0,
      "outputs": []
    },
    {
      "cell_type": "markdown",
      "metadata": {
        "id": "0YlJx4Ohydh3",
        "colab_type": "text"
      },
      "source": [
        "### 2.5)\n",
        "Now your model is ready to be trained. Call its `fit()` method, passing it the input features (`X_train`) and the target classes (`y_train`). Set `epochs=10` (or else it will just run for a single epoch). You can also (optionally) pass the validation data by setting `validation_data=(X_valid, y_valid)`. If you do, Keras will compute the loss and the additional metrics (the accuracy in this case) on the validation set at the end of each epoch. If the performance on the training set is much better than on the validation set, your model is probably overfitting the training set (or there is a bug, such as a mismatch between the training set and the validation set).\n",
        "**Note**: the `fit()` method will return a `History` object containing training stats. Make sure to preserve it (`history = model.fit(...)`)."
      ]
    },
    {
      "cell_type": "code",
      "metadata": {
        "id": "J17phYNhydh4",
        "colab_type": "code",
        "colab": {}
      },
      "source": [
        ""
      ],
      "execution_count": 0,
      "outputs": []
    },
    {
      "cell_type": "code",
      "metadata": {
        "id": "1qBaJM0kydh7",
        "colab_type": "code",
        "colab": {}
      },
      "source": [
        ""
      ],
      "execution_count": 0,
      "outputs": []
    },
    {
      "cell_type": "code",
      "metadata": {
        "id": "s4kyZy8vydh9",
        "colab_type": "code",
        "colab": {}
      },
      "source": [
        ""
      ],
      "execution_count": 0,
      "outputs": []
    },
    {
      "cell_type": "markdown",
      "metadata": {
        "id": "FngvQTrLydh_",
        "colab_type": "text"
      },
      "source": [
        "### 2.6)\n",
        "Try running `pd.DataFrame(history.history).plot()` to plot the learning curves. To make the graph more readable, you can also set `figsize=(8, 5)`, call `plt.grid(True)` and `plt.gca().set_ylim(0, 1)`."
      ]
    },
    {
      "cell_type": "code",
      "metadata": {
        "id": "IJImHBmvydiA",
        "colab_type": "code",
        "colab": {}
      },
      "source": [
        ""
      ],
      "execution_count": 0,
      "outputs": []
    },
    {
      "cell_type": "code",
      "metadata": {
        "id": "zLIu80WZydiD",
        "colab_type": "code",
        "colab": {}
      },
      "source": [
        ""
      ],
      "execution_count": 0,
      "outputs": []
    },
    {
      "cell_type": "code",
      "metadata": {
        "id": "8gZXVkT1ydiE",
        "colab_type": "code",
        "colab": {}
      },
      "source": [
        ""
      ],
      "execution_count": 0,
      "outputs": []
    },
    {
      "cell_type": "markdown",
      "metadata": {
        "id": "LiBZ838KydiH",
        "colab_type": "text"
      },
      "source": [
        "### 2.7)\n",
        "Try running `model.fit()` again, and notice that training continues where it left off."
      ]
    },
    {
      "cell_type": "code",
      "metadata": {
        "id": "1McxQApJydiH",
        "colab_type": "code",
        "colab": {}
      },
      "source": [
        ""
      ],
      "execution_count": 0,
      "outputs": []
    },
    {
      "cell_type": "code",
      "metadata": {
        "id": "AiEnKX2QydiJ",
        "colab_type": "code",
        "colab": {}
      },
      "source": [
        ""
      ],
      "execution_count": 0,
      "outputs": []
    },
    {
      "cell_type": "code",
      "metadata": {
        "id": "237kLr2xydiM",
        "colab_type": "code",
        "colab": {}
      },
      "source": [
        ""
      ],
      "execution_count": 0,
      "outputs": []
    },
    {
      "cell_type": "markdown",
      "metadata": {
        "id": "Wy1ZuBe5ydiQ",
        "colab_type": "text"
      },
      "source": [
        "### 2.8)\n",
        "call the model's `evaluate()` method, passing it the test set (`X_test` and `y_test`). This will compute the loss (cross-entropy) on the test set, as well as all the additional metrics (in this case, the accuracy). Your model should achieve over 80% accuracy on the test set."
      ]
    },
    {
      "cell_type": "code",
      "metadata": {
        "id": "uGxZE6XtydiR",
        "colab_type": "code",
        "colab": {}
      },
      "source": [
        ""
      ],
      "execution_count": 0,
      "outputs": []
    },
    {
      "cell_type": "code",
      "metadata": {
        "id": "O8aG19dGydiT",
        "colab_type": "code",
        "colab": {}
      },
      "source": [
        ""
      ],
      "execution_count": 0,
      "outputs": []
    },
    {
      "cell_type": "code",
      "metadata": {
        "id": "R9_isjzOydiX",
        "colab_type": "code",
        "colab": {}
      },
      "source": [
        ""
      ],
      "execution_count": 0,
      "outputs": []
    },
    {
      "cell_type": "markdown",
      "metadata": {
        "id": "CDsNDAuYydia",
        "colab_type": "text"
      },
      "source": [
        "### 2.9)\n",
        "Define `X_new` as the first 10 instances of the test set. Call the model's `predict()` method to estimate the probability of each class for each instance (for better readability, you may use the output array's `round()` method):"
      ]
    },
    {
      "cell_type": "code",
      "metadata": {
        "id": "VFXl6NWzydib",
        "colab_type": "code",
        "colab": {}
      },
      "source": [
        ""
      ],
      "execution_count": 0,
      "outputs": []
    },
    {
      "cell_type": "code",
      "metadata": {
        "id": "0YIoay-0ydid",
        "colab_type": "code",
        "colab": {}
      },
      "source": [
        ""
      ],
      "execution_count": 0,
      "outputs": []
    },
    {
      "cell_type": "code",
      "metadata": {
        "id": "uWo8-pLcydig",
        "colab_type": "code",
        "colab": {}
      },
      "source": [
        ""
      ],
      "execution_count": 0,
      "outputs": []
    },
    {
      "cell_type": "markdown",
      "metadata": {
        "id": "EW5sAzxyydii",
        "colab_type": "text"
      },
      "source": [
        "### 2.10)\n",
        "Often, you may only be interested in the most likely class. Use `np.argmax()` to get the class ID of the most likely class for each instance. **Tip**: you want to set `axis=1`."
      ]
    },
    {
      "cell_type": "code",
      "metadata": {
        "id": "F6m8hf6Jydij",
        "colab_type": "code",
        "colab": {}
      },
      "source": [
        ""
      ],
      "execution_count": 0,
      "outputs": []
    },
    {
      "cell_type": "code",
      "metadata": {
        "id": "3IUK4EJGydil",
        "colab_type": "code",
        "colab": {}
      },
      "source": [
        ""
      ],
      "execution_count": 0,
      "outputs": []
    },
    {
      "cell_type": "code",
      "metadata": {
        "id": "5ndnN_L2ydin",
        "colab_type": "code",
        "colab": {}
      },
      "source": [
        ""
      ],
      "execution_count": 0,
      "outputs": []
    },
    {
      "cell_type": "markdown",
      "metadata": {
        "id": "g4-xqEKVydip",
        "colab_type": "text"
      },
      "source": [
        "### 2.11)\n",
        "Call the model's `predict_classes()` method for `X_new`. You should get the same result as above."
      ]
    },
    {
      "cell_type": "code",
      "metadata": {
        "id": "t6xECiLIydiq",
        "colab_type": "code",
        "colab": {}
      },
      "source": [
        ""
      ],
      "execution_count": 0,
      "outputs": []
    },
    {
      "cell_type": "code",
      "metadata": {
        "id": "PxgqlblJydis",
        "colab_type": "code",
        "colab": {}
      },
      "source": [
        ""
      ],
      "execution_count": 0,
      "outputs": []
    },
    {
      "cell_type": "code",
      "metadata": {
        "id": "9kCppq2lydit",
        "colab_type": "code",
        "colab": {}
      },
      "source": [
        ""
      ],
      "execution_count": 0,
      "outputs": []
    },
    {
      "cell_type": "markdown",
      "metadata": {
        "id": "QnpEONtoydiv",
        "colab_type": "text"
      },
      "source": [
        "### 2.12)\n",
        "(Optional) It is often useful to know how confident the model is for each prediction. Try finding the estimated probability for each predicted class using `np.max()`."
      ]
    },
    {
      "cell_type": "code",
      "metadata": {
        "id": "NL1_6Zceydiv",
        "colab_type": "code",
        "colab": {}
      },
      "source": [
        ""
      ],
      "execution_count": 0,
      "outputs": []
    },
    {
      "cell_type": "code",
      "metadata": {
        "id": "4jchYDhKydiy",
        "colab_type": "code",
        "colab": {}
      },
      "source": [
        ""
      ],
      "execution_count": 0,
      "outputs": []
    },
    {
      "cell_type": "code",
      "metadata": {
        "id": "f2aL2XQtydi3",
        "colab_type": "code",
        "colab": {}
      },
      "source": [
        ""
      ],
      "execution_count": 0,
      "outputs": []
    },
    {
      "cell_type": "markdown",
      "metadata": {
        "id": "ghvvByHKydi6",
        "colab_type": "text"
      },
      "source": [
        "### 2.13)\n",
        "(Optional) It is frequent to want the top k classes and their estimated probabilities rather just the most likely class. You can use `np.argsort()` for this."
      ]
    },
    {
      "cell_type": "code",
      "metadata": {
        "id": "bqgFX-X0ydi6",
        "colab_type": "code",
        "colab": {}
      },
      "source": [
        ""
      ],
      "execution_count": 0,
      "outputs": []
    },
    {
      "cell_type": "code",
      "metadata": {
        "id": "1GM3yY7hydi8",
        "colab_type": "code",
        "colab": {}
      },
      "source": [
        ""
      ],
      "execution_count": 0,
      "outputs": []
    },
    {
      "cell_type": "code",
      "metadata": {
        "id": "01Rl5f0nydi-",
        "colab_type": "code",
        "colab": {}
      },
      "source": [
        ""
      ],
      "execution_count": 0,
      "outputs": []
    },
    {
      "cell_type": "markdown",
      "metadata": {
        "id": "NhIpSjwQydi_",
        "colab_type": "text"
      },
      "source": [
        "![Exercise solution](https://camo.githubusercontent.com/250388fde3fac9135ead9471733ee28e049f7a37/68747470733a2f2f75706c6f61642e77696b696d656469612e6f72672f77696b6970656469612f636f6d6d6f6e732f302f30362f46696c6f735f736567756e646f5f6c6f676f5f253238666c69707065642532392e6a7067)"
      ]
    },
    {
      "cell_type": "markdown",
      "metadata": {
        "id": "TugNiIJNydjA",
        "colab_type": "text"
      },
      "source": [
        "## Exercise 2 - Solution"
      ]
    },
    {
      "cell_type": "markdown",
      "metadata": {
        "id": "g9BZveFsydjB",
        "colab_type": "text"
      },
      "source": [
        "### 2.1)\n",
        "Build a `Sequential` model (`keras.models.Sequential`), without any argument, then and add four layers to it by calling its `add()` method:\n",
        "  * a `Flatten` layer (`keras.layers.Flatten`) to convert each 28x28 image to a single row of 784 pixel values. Since it is the first layer in your model, you should specify the `input_shape` argument, leaving out the batch size: `[28, 28]`.\n",
        "  * a `Dense` layer  (`keras.layers.Dense`) with 300 neurons (aka units), and the `\"relu\"` activation function.\n",
        "  * Another `Dense` layer with 100 neurons, also with the `\"relu\"` activation function.\n",
        "  * A final `Dense` layer with 10 neurons (one per class), and with the `\"softmax\"` activation function to ensure that the sum of all the estimated class probabilities for each image is equal to 1."
      ]
    },
    {
      "cell_type": "code",
      "metadata": {
        "id": "gpMc9gtrydjC",
        "colab_type": "code",
        "colab": {}
      },
      "source": [
        "model = keras.models.Sequential()\n",
        "model.add(keras.layers.Flatten(input_shape=[28, 28]))\n",
        "model.add(keras.layers.Dense(300, activation=\"relu\"))\n",
        "model.add(keras.layers.Dense(100, activation=\"relu\"))\n",
        "model.add(keras.layers.Dense(10, activation=\"softmax\"))"
      ],
      "execution_count": 0,
      "outputs": []
    },
    {
      "cell_type": "markdown",
      "metadata": {
        "id": "QBMO-ObqydjD",
        "colab_type": "text"
      },
      "source": [
        "### 2.2)\n",
        "Alternatively, you can pass a list containing the 4 layers to the constructor of the `Sequential` model. The model's `layers` attribute holds the list of layers."
      ]
    },
    {
      "cell_type": "code",
      "metadata": {
        "id": "5Zjd7cDkydjE",
        "colab_type": "code",
        "colab": {}
      },
      "source": [
        "model = keras.models.Sequential([\n",
        "    keras.layers.Flatten(input_shape=[28, 28]),\n",
        "    keras.layers.Dense(300, activation=\"relu\"),\n",
        "    keras.layers.Dense(100, activation=\"relu\"),\n",
        "    keras.layers.Dense(10, activation=\"softmax\")\n",
        "])"
      ],
      "execution_count": 0,
      "outputs": []
    },
    {
      "cell_type": "code",
      "metadata": {
        "id": "7R4rSuLuydjG",
        "colab_type": "code",
        "colab": {}
      },
      "source": [
        "model.layers"
      ],
      "execution_count": 0,
      "outputs": []
    },
    {
      "cell_type": "markdown",
      "metadata": {
        "id": "c2gWunMwydjI",
        "colab_type": "text"
      },
      "source": [
        "### 2.3)\n",
        "Call the model's `summary()` method and examine the output. Also, try using `keras.utils.plot_model()` to save an image of your model's architecture. Alternatively, you can uncomment the following code to display the image within Jupyter."
      ]
    },
    {
      "cell_type": "code",
      "metadata": {
        "id": "gQIhWJPGydjI",
        "colab_type": "code",
        "colab": {}
      },
      "source": [
        "model.summary()"
      ],
      "execution_count": 0,
      "outputs": []
    },
    {
      "cell_type": "code",
      "metadata": {
        "id": "P4SJGqzbydjK",
        "colab_type": "code",
        "colab": {}
      },
      "source": [
        "keras.utils.plot_model(model, \"my_mnist_model.png\", show_shapes=True)"
      ],
      "execution_count": 0,
      "outputs": []
    },
    {
      "cell_type": "markdown",
      "metadata": {
        "id": "RiVX0hakydjN",
        "colab_type": "text"
      },
      "source": [
        "**Warning**: at the present, you need `from tensorflow.python.keras.utils.vis_utils import model_to_dot`, instead of simply `keras.utils.model_to_dot`. See [TensorFlow issue 24639](https://github.com/tensorflow/tensorflow/issues/24639)."
      ]
    },
    {
      "cell_type": "code",
      "metadata": {
        "id": "xZcBmEIHydjP",
        "colab_type": "code",
        "colab": {}
      },
      "source": [
        "from IPython.display import SVG\n",
        "from tensorflow.python.keras.utils.vis_utils import model_to_dot\n",
        "SVG(model_to_dot(model, show_shapes=True).create(prog='dot', format='svg'))"
      ],
      "execution_count": 0,
      "outputs": []
    },
    {
      "cell_type": "markdown",
      "metadata": {
        "id": "X-etX_8iydjQ",
        "colab_type": "text"
      },
      "source": [
        "### 2.4)\n",
        "After a model is created, you must call its `compile()` method to specify the `loss` function and the `optimizer` to use. In this case, you want to use the `\"sparse_categorical_crossentropy\"` loss, and the `keras.optimizers.SGD(lr=1e-3)` optimizer (stochastic gradient descent with learning rate of 1e-3). Moreover, you can optionally specify a list of additional metrics that should be measured during training. In this case you should specify `metrics=[\"accuracy\"]`. **Note**: you can find more loss functions in `keras.losses`, more metrics in `keras.metrics` and more optimizers in `keras.optimizers`."
      ]
    },
    {
      "cell_type": "code",
      "metadata": {
        "id": "jGzKuCKzydjR",
        "colab_type": "code",
        "colab": {}
      },
      "source": [
        "model.compile(loss=\"sparse_categorical_crossentropy\",\n",
        "              optimizer=keras.optimizers.SGD(lr=1e-3),\n",
        "              metrics=[\"accuracy\"])"
      ],
      "execution_count": 0,
      "outputs": []
    },
    {
      "cell_type": "markdown",
      "metadata": {
        "id": "qcgm-k6WydjW",
        "colab_type": "text"
      },
      "source": [
        "### 2.5)\n",
        "Now your model is ready to be trained. Call its `fit()` method, passing it the input features (`X_train`) and the target classes (`y_train`). Set `epochs=10` (or else it will just run for a single epoch). You can also (optionally) pass the validation data by setting `validation_data=(X_valid, y_valid)`. If you do, Keras will compute the loss and the additional metrics (the accuracy in this case) on the validation set at the end of each epoch. If the performance on the training set is much better than on the validation set, your model is probably overfitting the training set (or there is a bug, such as a mismatch between the training set and the validation set).\n",
        "**Note**: the `fit()` method will return a `History` object containing training stats. Make sure to preserve it (`history = model.fit(...)`)."
      ]
    },
    {
      "cell_type": "code",
      "metadata": {
        "id": "HaGFt95QydjX",
        "colab_type": "code",
        "colab": {}
      },
      "source": [
        "history = model.fit(X_train, y_train, epochs=10,\n",
        "                    validation_data=(X_valid, y_valid))"
      ],
      "execution_count": 0,
      "outputs": []
    },
    {
      "cell_type": "markdown",
      "metadata": {
        "id": "6xQ-9mhcydjZ",
        "colab_type": "text"
      },
      "source": [
        "### 2.6)\n",
        "Try running `pd.DataFrame(history.history).plot()` to plot the learning curves. To make the graph more readable, you can also set `figsize=(8, 5)`, call `plt.grid(True)` and `plt.gca().set_ylim(0, 1)`."
      ]
    },
    {
      "cell_type": "code",
      "metadata": {
        "id": "RuctbONeydja",
        "colab_type": "code",
        "colab": {}
      },
      "source": [
        "def plot_learning_curves(history):\n",
        "    pd.DataFrame(history.history).plot(figsize=(8, 5))\n",
        "    plt.grid(True)\n",
        "    plt.gca().set_ylim(0, 1)\n",
        "    plt.show()"
      ],
      "execution_count": 0,
      "outputs": []
    },
    {
      "cell_type": "code",
      "metadata": {
        "id": "OMug3czPydjb",
        "colab_type": "code",
        "colab": {}
      },
      "source": [
        "plot_learning_curves(history)"
      ],
      "execution_count": 0,
      "outputs": []
    },
    {
      "cell_type": "markdown",
      "metadata": {
        "id": "dLr08nqpydjd",
        "colab_type": "text"
      },
      "source": [
        "### 2.7)\n",
        "Try running `model.fit()` again, and notice that training continues where it left off."
      ]
    },
    {
      "cell_type": "code",
      "metadata": {
        "id": "GFnjyKAHydjd",
        "colab_type": "code",
        "colab": {}
      },
      "source": [
        "history = model.fit(X_train, y_train, epochs=10,\n",
        "                    validation_data=(X_valid, y_valid))"
      ],
      "execution_count": 0,
      "outputs": []
    },
    {
      "cell_type": "markdown",
      "metadata": {
        "id": "uEUP6d2tydjq",
        "colab_type": "text"
      },
      "source": [
        "### 2.8)\n",
        "Call the model's `evaluate()` method, passing it the test set (`X_test` and `y_test`). This will compute the loss (cross-entropy) on the test set, as well as all the additional metrics (in this case, the accuracy). Your model should achieve over 80% accuracy on the test set."
      ]
    },
    {
      "cell_type": "code",
      "metadata": {
        "id": "Mvth9kYqydjr",
        "colab_type": "code",
        "colab": {}
      },
      "source": [
        "model.evaluate(X_test, y_test)"
      ],
      "execution_count": 0,
      "outputs": []
    },
    {
      "cell_type": "markdown",
      "metadata": {
        "id": "uKB19Enfydjs",
        "colab_type": "text"
      },
      "source": [
        "### 2.9)\n",
        "Define `X_new` as the first 10 instances of the test set. Call the model's `predict()` method to estimate the probability of each class for each instance (for better readability, you may use the output array's `round()` method):"
      ]
    },
    {
      "cell_type": "code",
      "metadata": {
        "id": "0jKJ9rUQydjt",
        "colab_type": "code",
        "colab": {}
      },
      "source": [
        "n_new = 10\n",
        "X_new = X_test[:n_new]\n",
        "y_proba = model.predict(X_new)\n",
        "y_proba.round(2)"
      ],
      "execution_count": 0,
      "outputs": []
    },
    {
      "cell_type": "markdown",
      "metadata": {
        "id": "sx-JBAjIydjx",
        "colab_type": "text"
      },
      "source": [
        "### 2.10)\n",
        "Often, you may only be interested in the most likely class. Use `np.argmax()` to get the class ID of the most likely class for each instance. **Tip**: you want to set `axis=1`."
      ]
    },
    {
      "cell_type": "code",
      "metadata": {
        "id": "4zT592Y0ydjx",
        "colab_type": "code",
        "colab": {}
      },
      "source": [
        "y_pred = y_proba.argmax(axis=1)\n",
        "y_pred"
      ],
      "execution_count": 0,
      "outputs": []
    },
    {
      "cell_type": "markdown",
      "metadata": {
        "id": "z8_fwpvrydjz",
        "colab_type": "text"
      },
      "source": [
        "### 2.11)\n",
        "Call the model's `predict_classes()` method for `X_new`. You should get the same result as above."
      ]
    },
    {
      "cell_type": "code",
      "metadata": {
        "id": "X5KULPmkydj0",
        "colab_type": "code",
        "colab": {}
      },
      "source": [
        "y_pred = model.predict_classes(X_new)\n",
        "y_pred"
      ],
      "execution_count": 0,
      "outputs": []
    },
    {
      "cell_type": "markdown",
      "metadata": {
        "id": "-Da68XD1ydj2",
        "colab_type": "text"
      },
      "source": [
        "### 2.12)\n",
        "(Optional) It is often useful to know how confident the model is for each prediction. Try finding the estimated probability for each predicted class using `np.max()`."
      ]
    },
    {
      "cell_type": "code",
      "metadata": {
        "id": "Virx14ZZydj2",
        "colab_type": "code",
        "colab": {}
      },
      "source": [
        "y_proba.max(axis=1).round(2)"
      ],
      "execution_count": 0,
      "outputs": []
    },
    {
      "cell_type": "markdown",
      "metadata": {
        "id": "IKu-Yop6ydj4",
        "colab_type": "text"
      },
      "source": [
        "### 2.13)\n",
        "(Optional) It is frequent to want the top k classes and their estimated probabilities rather just the most likely class. You can use `np.argsort()` for this."
      ]
    },
    {
      "cell_type": "code",
      "metadata": {
        "id": "NkZ9qTX0ydj5",
        "colab_type": "code",
        "colab": {}
      },
      "source": [
        "k = 3\n",
        "top_k = np.argsort(-y_proba, axis=1)[:, :k]\n",
        "top_k"
      ],
      "execution_count": 0,
      "outputs": []
    },
    {
      "cell_type": "code",
      "metadata": {
        "id": "8UnBc9Ibydj7",
        "colab_type": "code",
        "colab": {}
      },
      "source": [
        "row_indices = np.tile(np.arange(len(top_k)), [k, 1]).T\n",
        "y_proba[row_indices, top_k].round(2)"
      ],
      "execution_count": 0,
      "outputs": []
    },
    {
      "cell_type": "markdown",
      "metadata": {
        "id": "rzO8nLqhydj_",
        "colab_type": "text"
      },
      "source": [
        "![Exercise](https://c1.staticflickr.com/9/8101/8553474140_c50cf08708_b.jpg)"
      ]
    },
    {
      "cell_type": "markdown",
      "metadata": {
        "id": "8zQUNky8ydkA",
        "colab_type": "text"
      },
      "source": [
        "## Exercise 3 – Scale the features"
      ]
    },
    {
      "cell_type": "markdown",
      "metadata": {
        "id": "KcKEkZK8ydkA",
        "colab_type": "text"
      },
      "source": [
        "### 3.1)\n",
        "When using Gradient Descent, it is usually best to ensure that the features all have a similar scale, preferably with a Normal distribution. Try to standardize the pixel values and see if this improves the performance of your neural network.\n",
        "\n",
        "**Tips**:\n",
        "* For each feature (pixel intensity), you must subtract the `mean()` of that feature (across all instances, so use `axis=0`) and divide by its standard deviation (`std()`, again `axis=0`). Alternatively, you can use Scikit-Learn's `StandardScaler`.\n",
        "* Make sure you compute the means and standard deviations on the training set, and use these statistics to scale the training set, the validation set and the test set (you should not fit the validation set or the test set, and computing the means and standard deviations counts as \"fitting\")."
      ]
    },
    {
      "cell_type": "code",
      "metadata": {
        "id": "zKgxyE1EydkB",
        "colab_type": "code",
        "colab": {}
      },
      "source": [
        ""
      ],
      "execution_count": 0,
      "outputs": []
    },
    {
      "cell_type": "code",
      "metadata": {
        "id": "PNQf5W64ydkC",
        "colab_type": "code",
        "colab": {}
      },
      "source": [
        ""
      ],
      "execution_count": 0,
      "outputs": []
    },
    {
      "cell_type": "code",
      "metadata": {
        "id": "qKaWMi_dydkE",
        "colab_type": "code",
        "colab": {}
      },
      "source": [
        ""
      ],
      "execution_count": 0,
      "outputs": []
    },
    {
      "cell_type": "markdown",
      "metadata": {
        "id": "YpAILFRkydkF",
        "colab_type": "text"
      },
      "source": [
        "### 3.2)\n",
        "Plot the learning curves. Do they look better than earlier?"
      ]
    },
    {
      "cell_type": "code",
      "metadata": {
        "id": "j2kkwRr4ydkG",
        "colab_type": "code",
        "colab": {}
      },
      "source": [
        ""
      ],
      "execution_count": 0,
      "outputs": []
    },
    {
      "cell_type": "code",
      "metadata": {
        "id": "oCRtLjVJydkL",
        "colab_type": "code",
        "colab": {}
      },
      "source": [
        ""
      ],
      "execution_count": 0,
      "outputs": []
    },
    {
      "cell_type": "code",
      "metadata": {
        "id": "SnQcv-lrydkN",
        "colab_type": "code",
        "colab": {}
      },
      "source": [
        ""
      ],
      "execution_count": 0,
      "outputs": []
    },
    {
      "cell_type": "markdown",
      "metadata": {
        "id": "sbLzRB2GydkO",
        "colab_type": "text"
      },
      "source": [
        "![Exercise solution](https://camo.githubusercontent.com/250388fde3fac9135ead9471733ee28e049f7a37/68747470733a2f2f75706c6f61642e77696b696d656469612e6f72672f77696b6970656469612f636f6d6d6f6e732f302f30362f46696c6f735f736567756e646f5f6c6f676f5f253238666c69707065642532392e6a7067)"
      ]
    },
    {
      "cell_type": "markdown",
      "metadata": {
        "id": "aMCBZIcqydkP",
        "colab_type": "text"
      },
      "source": [
        "## Exercise 3 – Solution"
      ]
    },
    {
      "cell_type": "markdown",
      "metadata": {
        "id": "FmKG8ch_ydkQ",
        "colab_type": "text"
      },
      "source": [
        "### 3.1)\n",
        "When using Gradient Descent, it is usually best to ensure that the features all have a similar scale, preferably with a Normal distribution. Try to standardize the pixel values and see if this improves the performance of your neural network."
      ]
    },
    {
      "cell_type": "code",
      "metadata": {
        "id": "RrEBAXpoydkQ",
        "colab_type": "code",
        "colab": {}
      },
      "source": [
        "pixel_means = X_train.mean(axis = 0)\n",
        "pixel_stds = X_train.std(axis = 0)\n",
        "X_train_scaled = (X_train - pixel_means) / pixel_stds\n",
        "X_valid_scaled = (X_valid - pixel_means) / pixel_stds\n",
        "X_test_scaled = (X_test - pixel_means) / pixel_stds"
      ],
      "execution_count": 0,
      "outputs": []
    },
    {
      "cell_type": "code",
      "metadata": {
        "id": "QO7mDLLrydkS",
        "colab_type": "code",
        "colab": {}
      },
      "source": [
        "from sklearn.preprocessing import StandardScaler\n",
        "\n",
        "scaler = StandardScaler()\n",
        "X_train_scaled = scaler.fit_transform(X_train.astype(np.float32).reshape(-1, 28 * 28)).reshape(-1, 28, 28)\n",
        "X_valid_scaled = scaler.transform(X_valid.astype(np.float32).reshape(-1, 28 * 28)).reshape(-1, 28, 28)\n",
        "X_test_scaled = scaler.transform(X_test.astype(np.float32).reshape(-1, 28 * 28)).reshape(-1, 28, 28)"
      ],
      "execution_count": 0,
      "outputs": []
    },
    {
      "cell_type": "code",
      "metadata": {
        "id": "K5VYi8MVydkT",
        "colab_type": "code",
        "colab": {}
      },
      "source": [
        "model = keras.models.Sequential([\n",
        "    keras.layers.Flatten(input_shape=[28, 28]),\n",
        "    keras.layers.Dense(300, activation=\"relu\"),\n",
        "    keras.layers.Dense(100, activation=\"relu\"),\n",
        "    keras.layers.Dense(10, activation=\"softmax\")\n",
        "])\n",
        "model.compile(loss=\"sparse_categorical_crossentropy\",\n",
        "              optimizer=keras.optimizers.SGD(1e-3), metrics=[\"accuracy\"])\n",
        "history = model.fit(X_train_scaled, y_train, epochs=20,\n",
        "                    validation_data=(X_valid_scaled, y_valid))"
      ],
      "execution_count": 0,
      "outputs": []
    },
    {
      "cell_type": "code",
      "metadata": {
        "id": "UI86MYQJydkV",
        "colab_type": "code",
        "colab": {}
      },
      "source": [
        "model.evaluate(X_test_scaled, y_test)"
      ],
      "execution_count": 0,
      "outputs": []
    },
    {
      "cell_type": "markdown",
      "metadata": {
        "id": "3wKtlpMuydkW",
        "colab_type": "text"
      },
      "source": [
        "### 3.2)\n",
        "Plot the learning curves. Do they look better than earlier?"
      ]
    },
    {
      "cell_type": "code",
      "metadata": {
        "scrolled": true,
        "id": "RBmTemXEydkX",
        "colab_type": "code",
        "colab": {}
      },
      "source": [
        "plot_learning_curves(history)"
      ],
      "execution_count": 0,
      "outputs": []
    },
    {
      "cell_type": "markdown",
      "metadata": {
        "id": "jVYtRJoXydkX",
        "colab_type": "text"
      },
      "source": [
        "![Exercise](https://c1.staticflickr.com/9/8101/8553474140_c50cf08708_b.jpg)"
      ]
    },
    {
      "cell_type": "markdown",
      "metadata": {
        "id": "dw34Ew6oydkZ",
        "colab_type": "text"
      },
      "source": [
        "## Exercise 4 – Use Callbacks"
      ]
    },
    {
      "cell_type": "markdown",
      "metadata": {
        "id": "n_GWt0E6ydkZ",
        "colab_type": "text"
      },
      "source": [
        "### 4.1)\n",
        "The `fit()` method accepts a `callbacks` argument. Try training your model with a large number of epochs, a validation set, and with a few callbacks from `keras.callbacks`:\n",
        "* `TensorBoard`: specify a log directory. It should be a subdirectory of a root logdir, such as `./my_logs/run_1`, and it should be different every time you train your model. You can use a timestamp in the subdirectory's path to ensure that it changes at every run.\n",
        "* `EarlyStopping`: specify `patience=5`\n",
        "* `ModelCheckpoint`: specify the path of the checkpoint file to save (e.g., `\"my_mnist_model.h5\"`) and set `save_best_only=True`\n",
        "\n",
        "Notice that the `EarlyStopping` callback will interrupt training before it reaches the requested number of epochs. This reduces the risk of overfitting."
      ]
    },
    {
      "cell_type": "code",
      "metadata": {
        "id": "83nh26wZydkZ",
        "colab_type": "code",
        "colab": {}
      },
      "source": [
        ""
      ],
      "execution_count": 0,
      "outputs": []
    },
    {
      "cell_type": "code",
      "metadata": {
        "id": "_TxoXTR1ydkb",
        "colab_type": "code",
        "colab": {}
      },
      "source": [
        ""
      ],
      "execution_count": 0,
      "outputs": []
    },
    {
      "cell_type": "code",
      "metadata": {
        "id": "N8vCdooTydkd",
        "colab_type": "code",
        "colab": {}
      },
      "source": [
        ""
      ],
      "execution_count": 0,
      "outputs": []
    },
    {
      "cell_type": "code",
      "metadata": {
        "id": "n5SaoWCpydkd",
        "colab_type": "code",
        "colab": {}
      },
      "source": [
        "root_logdir = os.path.join(os.curdir, \"my_logs\")"
      ],
      "execution_count": 0,
      "outputs": []
    },
    {
      "cell_type": "markdown",
      "metadata": {
        "id": "I4RkX-OBydkf",
        "colab_type": "text"
      },
      "source": [
        "### 4.2)\n",
        "The Jupyter plugin for tensorboard was loaded at the beginning of this notebook (`%load_ext tensorboard`), so you can now simply start it by using the `%tensorboard` magic command. Explore the various tabs available, in particular the SCALARS tab to view learning curves, the GRAPHS tab to view the computation graph, and the PROFILE tab which is very useful to identify bottlenecks if you run into performance issues."
      ]
    },
    {
      "cell_type": "code",
      "metadata": {
        "id": "fcyIuBosydkf",
        "colab_type": "code",
        "colab": {}
      },
      "source": [
        "%tensorboard --logdir=./my_logs"
      ],
      "execution_count": 0,
      "outputs": []
    },
    {
      "cell_type": "markdown",
      "metadata": {
        "id": "H_sqObFPydkh",
        "colab_type": "text"
      },
      "source": [
        "### 4.3)\n",
        "The early stopping callback only stopped training after 10 epochs without progress, so your model may already have started to overfit the training set. Fortunately, since the `ModelCheckpoint` callback only saved the best models (on the validation set), the last saved model is the best on the validation set, so try loading it using `keras.models.load_model()`. Finally evaluate it on the test set."
      ]
    },
    {
      "cell_type": "code",
      "metadata": {
        "id": "70ENXsL0ydkh",
        "colab_type": "code",
        "colab": {}
      },
      "source": [
        ""
      ],
      "execution_count": 0,
      "outputs": []
    },
    {
      "cell_type": "code",
      "metadata": {
        "id": "1sFxhvu1ydkj",
        "colab_type": "code",
        "colab": {}
      },
      "source": [
        ""
      ],
      "execution_count": 0,
      "outputs": []
    },
    {
      "cell_type": "code",
      "metadata": {
        "id": "rwWtB6Scydkk",
        "colab_type": "code",
        "colab": {}
      },
      "source": [
        ""
      ],
      "execution_count": 0,
      "outputs": []
    },
    {
      "cell_type": "markdown",
      "metadata": {
        "id": "hCMpy3qHydkm",
        "colab_type": "text"
      },
      "source": [
        "### 4.4)\n",
        "Look at the list of available callbacks at https://keras.io/callbacks/"
      ]
    },
    {
      "cell_type": "code",
      "metadata": {
        "id": "84Ep72snydkm",
        "colab_type": "code",
        "colab": {}
      },
      "source": [
        ""
      ],
      "execution_count": 0,
      "outputs": []
    },
    {
      "cell_type": "code",
      "metadata": {
        "id": "aqIrmtcJydkn",
        "colab_type": "code",
        "colab": {}
      },
      "source": [
        ""
      ],
      "execution_count": 0,
      "outputs": []
    },
    {
      "cell_type": "code",
      "metadata": {
        "id": "TA1uw-rnydko",
        "colab_type": "code",
        "colab": {}
      },
      "source": [
        ""
      ],
      "execution_count": 0,
      "outputs": []
    },
    {
      "cell_type": "markdown",
      "metadata": {
        "id": "mmcnvEUlydkr",
        "colab_type": "text"
      },
      "source": [
        "![Exercise solution](https://camo.githubusercontent.com/250388fde3fac9135ead9471733ee28e049f7a37/68747470733a2f2f75706c6f61642e77696b696d656469612e6f72672f77696b6970656469612f636f6d6d6f6e732f302f30362f46696c6f735f736567756e646f5f6c6f676f5f253238666c69707065642532392e6a7067)"
      ]
    },
    {
      "cell_type": "markdown",
      "metadata": {
        "id": "j6s-CB91ydkr",
        "colab_type": "text"
      },
      "source": [
        "## Exercise 4 – Solution"
      ]
    },
    {
      "cell_type": "markdown",
      "metadata": {
        "id": "Ltrvdj9sydks",
        "colab_type": "text"
      },
      "source": [
        "### 4.1)\n",
        "The `fit()` method accepts a `callbacks` argument. Try training your model with a large number of epochs, a validation set, and with a few callbacks from `keras.callbacks`:\n",
        "* `TensorBoard`: specify a log directory. It should be a subdirectory of a root logdir, such as `./my_logs/run_1`, and it should be different every time you train your model. You can use a timestamp in the subdirectory's path to ensure that it changes at every run.\n",
        "* `EarlyStopping`: specify `patience=5`\n",
        "* `ModelCheckpoint`: specify the path of the checkpoint file to save (e.g., `\"my_mnist_model.h5\"`) and set `save_best_only=True`\n",
        "\n",
        "Notice that the `EarlyStopping` callback will interrupt training before it reaches the requested number of epochs. This reduces the risk of overfitting."
      ]
    },
    {
      "cell_type": "code",
      "metadata": {
        "id": "OG-daBr0ydks",
        "colab_type": "code",
        "colab": {}
      },
      "source": [
        "model = keras.models.Sequential([\n",
        "    keras.layers.Flatten(input_shape=[28, 28]),\n",
        "    keras.layers.Dense(300, activation=\"relu\"),\n",
        "    keras.layers.Dense(100, activation=\"relu\"),\n",
        "    keras.layers.Dense(10, activation=\"softmax\")\n",
        "])\n",
        "model.compile(loss=\"sparse_categorical_crossentropy\",\n",
        "              optimizer=keras.optimizers.SGD(1e-3), metrics=[\"accuracy\"])"
      ],
      "execution_count": 0,
      "outputs": []
    },
    {
      "cell_type": "code",
      "metadata": {
        "id": "wUINb7xKydku",
        "colab_type": "code",
        "colab": {}
      },
      "source": [
        "logdir = os.path.join(root_logdir, \"run_{}\".format(time.time()))\n",
        "\n",
        "callbacks = [\n",
        "    keras.callbacks.TensorBoard(logdir),\n",
        "    keras.callbacks.EarlyStopping(patience=5),\n",
        "    keras.callbacks.ModelCheckpoint(\"my_mnist_model.h5\", save_best_only=True),\n",
        "]\n",
        "history = model.fit(X_train_scaled, y_train, epochs=50,\n",
        "                    validation_data=(X_valid_scaled, y_valid),\n",
        "                    callbacks=callbacks)"
      ],
      "execution_count": 0,
      "outputs": []
    },
    {
      "cell_type": "markdown",
      "metadata": {
        "id": "YJZPK3x_ydkv",
        "colab_type": "text"
      },
      "source": [
        "### 4.2)\n",
        "Done"
      ]
    },
    {
      "cell_type": "markdown",
      "metadata": {
        "id": "qehUcXE2ydkw",
        "colab_type": "text"
      },
      "source": [
        "### 4.3)\n",
        "The early stopping callback only stopped training after 10 epochs without progress, so your model may already have started to overfit the training set. Fortunately, since the `ModelCheckpoint` callback only saved the best models (on the validation set), the last saved model is the best on the validation set, so try loading it using `keras.models.load_model()`. Finally evaluate it on the test set."
      ]
    },
    {
      "cell_type": "code",
      "metadata": {
        "id": "W9m2V_mRydkw",
        "colab_type": "code",
        "colab": {}
      },
      "source": [
        "model = keras.models.load_model(\"my_mnist_model.h5\")"
      ],
      "execution_count": 0,
      "outputs": []
    },
    {
      "cell_type": "code",
      "metadata": {
        "id": "iW3Rg5i-ydkx",
        "colab_type": "code",
        "colab": {}
      },
      "source": [
        "model.evaluate(X_valid_scaled, y_valid)"
      ],
      "execution_count": 0,
      "outputs": []
    },
    {
      "cell_type": "markdown",
      "metadata": {
        "id": "IhOwi3mJydk0",
        "colab_type": "text"
      },
      "source": [
        "### 4.4)\n",
        "Look at the list of available callbacks at https://keras.io/callbacks/"
      ]
    },
    {
      "cell_type": "markdown",
      "metadata": {
        "id": "C2Rq66Hdydk0",
        "colab_type": "text"
      },
      "source": [
        "![Exercise](https://c1.staticflickr.com/9/8101/8553474140_c50cf08708_b.jpg)"
      ]
    },
    {
      "cell_type": "markdown",
      "metadata": {
        "id": "u2chu23Uydk0",
        "colab_type": "text"
      },
      "source": [
        "## Exercise 5 – A neural net for regression"
      ]
    },
    {
      "cell_type": "markdown",
      "metadata": {
        "id": "gPCdl_TSydk0",
        "colab_type": "text"
      },
      "source": [
        "### 5.1)\n",
        "Load the California housing dataset using `sklearn.datasets.fetch_california_housing`. This returns an object with a `DESCR` attribute describing the dataset, a `data` attribute with the input features, and a `target` attribute with the labels. The goal is to predict the price of houses in a district (a census block) given some stats about that district. This is a regression task (predicting values)."
      ]
    },
    {
      "cell_type": "code",
      "metadata": {
        "id": "9Kxl4cZFydk1",
        "colab_type": "code",
        "colab": {}
      },
      "source": [
        ""
      ],
      "execution_count": 0,
      "outputs": []
    },
    {
      "cell_type": "code",
      "metadata": {
        "id": "UdWzgd7Sydk2",
        "colab_type": "code",
        "colab": {}
      },
      "source": [
        ""
      ],
      "execution_count": 0,
      "outputs": []
    },
    {
      "cell_type": "code",
      "metadata": {
        "id": "FEPZjDVTydk3",
        "colab_type": "code",
        "colab": {}
      },
      "source": [
        ""
      ],
      "execution_count": 0,
      "outputs": []
    },
    {
      "cell_type": "markdown",
      "metadata": {
        "id": "2LeWGPfwydk4",
        "colab_type": "text"
      },
      "source": [
        "### 5.2)\n",
        "Split the dataset into a training set, a validation set and a test set using Scikit-Learn's `sklearn.model_selection.train_test_split()` function."
      ]
    },
    {
      "cell_type": "code",
      "metadata": {
        "id": "UTyRQsZ1ydk5",
        "colab_type": "code",
        "colab": {}
      },
      "source": [
        ""
      ],
      "execution_count": 0,
      "outputs": []
    },
    {
      "cell_type": "code",
      "metadata": {
        "id": "HBrQHhL2ydk7",
        "colab_type": "code",
        "colab": {}
      },
      "source": [
        ""
      ],
      "execution_count": 0,
      "outputs": []
    },
    {
      "cell_type": "code",
      "metadata": {
        "id": "-2hjxhXvydk8",
        "colab_type": "code",
        "colab": {}
      },
      "source": [
        ""
      ],
      "execution_count": 0,
      "outputs": []
    },
    {
      "cell_type": "markdown",
      "metadata": {
        "id": "V60ym9d3ydk9",
        "colab_type": "text"
      },
      "source": [
        "### 5.3)\n",
        "Scale the input features (e.g., using a `sklearn.preprocessing.StandardScaler`). Once again, don't forget that you should not fit the validation set or the test set, only the training set."
      ]
    },
    {
      "cell_type": "code",
      "metadata": {
        "id": "GEL7-xpXydk9",
        "colab_type": "code",
        "colab": {}
      },
      "source": [
        ""
      ],
      "execution_count": 0,
      "outputs": []
    },
    {
      "cell_type": "code",
      "metadata": {
        "id": "u6gWYbatydk_",
        "colab_type": "code",
        "colab": {}
      },
      "source": [
        ""
      ],
      "execution_count": 0,
      "outputs": []
    },
    {
      "cell_type": "code",
      "metadata": {
        "id": "BfMQOS5XydlA",
        "colab_type": "code",
        "colab": {}
      },
      "source": [
        ""
      ],
      "execution_count": 0,
      "outputs": []
    },
    {
      "cell_type": "markdown",
      "metadata": {
        "id": "o3N0eC2XydlC",
        "colab_type": "text"
      },
      "source": [
        "### 5.4)\n",
        "Now build, train and evaluate a neural network to tackle this problem. Then use it to make predictions on the test set.\n",
        "\n",
        "**Tips**:\n",
        "* Since you are predicting a single value per district (the median house price), there should only be one neuron in the output layer.\n",
        "* Usually for regression tasks you don't want to use any activation function in the output layer (in some cases you may want to use `\"relu\"` or `\"softplus\"` if you want to constrain the predicted values to be positive, or `\"sigmoid\"` or `\"tanh\"` if you want to constrain the predicted values to 0-1 or -1-1).\n",
        "* A good loss function for regression is generally the `\"mean_squared_error\"` (aka `\"mse\"`). When there are many outliers in your dataset, you may prefer to use the `\"mean_absolute_error\"` (aka `\"mae\"`), which is a bit less precise but less sensitive to outliers."
      ]
    },
    {
      "cell_type": "code",
      "metadata": {
        "id": "UrtAeiK-ydlD",
        "colab_type": "code",
        "colab": {}
      },
      "source": [
        ""
      ],
      "execution_count": 0,
      "outputs": []
    },
    {
      "cell_type": "code",
      "metadata": {
        "id": "FTSaZGduydlG",
        "colab_type": "code",
        "colab": {}
      },
      "source": [
        ""
      ],
      "execution_count": 0,
      "outputs": []
    },
    {
      "cell_type": "code",
      "metadata": {
        "id": "hn6CPkhTydlI",
        "colab_type": "code",
        "colab": {}
      },
      "source": [
        ""
      ],
      "execution_count": 0,
      "outputs": []
    },
    {
      "cell_type": "markdown",
      "metadata": {
        "id": "IW3-XEFFydlJ",
        "colab_type": "text"
      },
      "source": [
        "![Exercise solution](https://camo.githubusercontent.com/250388fde3fac9135ead9471733ee28e049f7a37/68747470733a2f2f75706c6f61642e77696b696d656469612e6f72672f77696b6970656469612f636f6d6d6f6e732f302f30362f46696c6f735f736567756e646f5f6c6f676f5f253238666c69707065642532392e6a7067)"
      ]
    },
    {
      "cell_type": "markdown",
      "metadata": {
        "id": "Eww0or8BydlK",
        "colab_type": "text"
      },
      "source": [
        "## Exercise 5 – Solution"
      ]
    },
    {
      "cell_type": "markdown",
      "metadata": {
        "id": "VyZWyoQdydlK",
        "colab_type": "text"
      },
      "source": [
        "### 5.1)\n",
        "Load the California housing dataset using `sklearn.datasets.fetch_california_housing`. This returns an object with a `DESCR` attribute describing the dataset, a `data` attribute with the input features, and a `target` attribute with the labels. The goal is to predict the price of houses in a district (a census block) given some stats about that district. This is a regression task (predicting values)."
      ]
    },
    {
      "cell_type": "code",
      "metadata": {
        "id": "KNecDWTaydlL",
        "colab_type": "code",
        "colab": {}
      },
      "source": [
        "from sklearn.datasets import fetch_california_housing\n",
        "housing = fetch_california_housing()"
      ],
      "execution_count": 0,
      "outputs": []
    },
    {
      "cell_type": "code",
      "metadata": {
        "id": "TdeP7EpIydlL",
        "colab_type": "code",
        "colab": {}
      },
      "source": [
        "print(housing.DESCR)"
      ],
      "execution_count": 0,
      "outputs": []
    },
    {
      "cell_type": "code",
      "metadata": {
        "id": "UUdRK-9oydlN",
        "colab_type": "code",
        "colab": {}
      },
      "source": [
        "housing.data.shape"
      ],
      "execution_count": 0,
      "outputs": []
    },
    {
      "cell_type": "code",
      "metadata": {
        "id": "zZrhHe6lydlP",
        "colab_type": "code",
        "colab": {}
      },
      "source": [
        "housing.target.shape"
      ],
      "execution_count": 0,
      "outputs": []
    },
    {
      "cell_type": "markdown",
      "metadata": {
        "id": "gkaEHLKIydlQ",
        "colab_type": "text"
      },
      "source": [
        "### 5.2)\n",
        "Split the dataset into a training set, a validation set and a test set using Scikit-Learn's `sklearn.model_selection.train_test_split()` function."
      ]
    },
    {
      "cell_type": "code",
      "metadata": {
        "id": "k50LA8VLydlR",
        "colab_type": "code",
        "colab": {}
      },
      "source": [
        "from sklearn.model_selection import train_test_split\n",
        "\n",
        "X_train_full, X_test, y_train_full, y_test = train_test_split(housing.data, housing.target, random_state=42)\n",
        "X_train, X_valid, y_train, y_valid = train_test_split(X_train_full, y_train_full, random_state=42)"
      ],
      "execution_count": 0,
      "outputs": []
    },
    {
      "cell_type": "code",
      "metadata": {
        "id": "Dh6bvkBSydlS",
        "colab_type": "code",
        "colab": {}
      },
      "source": [
        "len(X_train), len(X_valid), len(X_test)"
      ],
      "execution_count": 0,
      "outputs": []
    },
    {
      "cell_type": "markdown",
      "metadata": {
        "id": "3a6vsVupydlT",
        "colab_type": "text"
      },
      "source": [
        "### 5.3)\n",
        "Scale the input features (e.g., using a `sklearn.preprocessing.StandardScaler`). Once again, don't forget that you should not fit the validation set or the test set, only the training set."
      ]
    },
    {
      "cell_type": "code",
      "metadata": {
        "id": "B_FSw2vIydlU",
        "colab_type": "code",
        "colab": {}
      },
      "source": [
        "from sklearn.preprocessing import StandardScaler\n",
        "\n",
        "scaler = StandardScaler()\n",
        "X_train_scaled = scaler.fit_transform(X_train)\n",
        "X_valid_scaled = scaler.transform(X_valid)\n",
        "X_test_scaled = scaler.transform(X_test)"
      ],
      "execution_count": 0,
      "outputs": []
    },
    {
      "cell_type": "markdown",
      "metadata": {
        "id": "Za8lyquMydlW",
        "colab_type": "text"
      },
      "source": [
        "### 5.4)\n",
        "Now build, train and evaluate a neural network to tackle this problem. Then use it to make predictions on the test set."
      ]
    },
    {
      "cell_type": "code",
      "metadata": {
        "id": "nRa_1dPzydlX",
        "colab_type": "code",
        "colab": {}
      },
      "source": [
        "model = keras.models.Sequential([\n",
        "    keras.layers.Dense(30, activation=\"relu\", input_shape=X_train.shape[1:]),\n",
        "    keras.layers.Dense(1)\n",
        "])\n",
        "model.compile(loss=\"mean_squared_error\", optimizer=keras.optimizers.SGD(1e-3))"
      ],
      "execution_count": 0,
      "outputs": []
    },
    {
      "cell_type": "code",
      "metadata": {
        "id": "8-r2FlA-ydlZ",
        "colab_type": "code",
        "colab": {}
      },
      "source": [
        "callbacks = [keras.callbacks.EarlyStopping(patience=10)]\n",
        "history = model.fit(X_train_scaled, y_train,\n",
        "                    validation_data=(X_valid_scaled, y_valid), epochs=100,\n",
        "                    callbacks=callbacks)"
      ],
      "execution_count": 0,
      "outputs": []
    },
    {
      "cell_type": "code",
      "metadata": {
        "id": "t76hbZM3ydlZ",
        "colab_type": "code",
        "colab": {}
      },
      "source": [
        "model.evaluate(X_test_scaled, y_test)"
      ],
      "execution_count": 0,
      "outputs": []
    },
    {
      "cell_type": "code",
      "metadata": {
        "id": "jEwG2fNxydlb",
        "colab_type": "code",
        "colab": {}
      },
      "source": [
        "model.predict(X_test_scaled)"
      ],
      "execution_count": 0,
      "outputs": []
    },
    {
      "cell_type": "code",
      "metadata": {
        "scrolled": true,
        "id": "LH4TI_ygydld",
        "colab_type": "code",
        "colab": {}
      },
      "source": [
        "plot_learning_curves(history)"
      ],
      "execution_count": 0,
      "outputs": []
    },
    {
      "cell_type": "markdown",
      "metadata": {
        "id": "S3E5tnLpydle",
        "colab_type": "text"
      },
      "source": [
        "![Exercise](https://c1.staticflickr.com/9/8101/8553474140_c50cf08708_b.jpg)"
      ]
    },
    {
      "cell_type": "markdown",
      "metadata": {
        "id": "wN6-WhqTydle",
        "colab_type": "text"
      },
      "source": [
        "## Exercise 6 – Hyperparameter search"
      ]
    },
    {
      "cell_type": "markdown",
      "metadata": {
        "id": "8YSVkK1-ydlf",
        "colab_type": "text"
      },
      "source": [
        "### 6.1)\n",
        "Try training your model multiple times, with different a learning rate each time (e.g., 1e-4, 3e-4, 1e-3, 3e-3, 3e-2), and compare the learning curves. For this, you need to create a `keras.optimizers.SGD` optimizer and specify the `learning_rate` in its constructor, then pass this `SGD` instance to the `compile()` method using the `optimizer` argument."
      ]
    },
    {
      "cell_type": "code",
      "metadata": {
        "id": "mSn8H6Pfydlg",
        "colab_type": "code",
        "colab": {}
      },
      "source": [
        ""
      ],
      "execution_count": 0,
      "outputs": []
    },
    {
      "cell_type": "code",
      "metadata": {
        "id": "2tkfSVzBydlh",
        "colab_type": "code",
        "colab": {}
      },
      "source": [
        ""
      ],
      "execution_count": 0,
      "outputs": []
    },
    {
      "cell_type": "code",
      "metadata": {
        "id": "8q-wlqkHydli",
        "colab_type": "code",
        "colab": {}
      },
      "source": [
        ""
      ],
      "execution_count": 0,
      "outputs": []
    },
    {
      "cell_type": "markdown",
      "metadata": {
        "id": "EgpdYhaqydlj",
        "colab_type": "text"
      },
      "source": [
        "### 6.2)\n",
        "Let's look at a more sophisticated way to tune hyperparameters. Create a `build_model()` function that takes three arguments, `n_hidden`, `n_neurons`, `learning_rate`, and builds, compiles and returns a model with the given number of hidden layers, the given number of neurons and the given learning rate. It is good practice to give a reasonable default value to each argument."
      ]
    },
    {
      "cell_type": "code",
      "metadata": {
        "id": "cGNelF2Jydlj",
        "colab_type": "code",
        "colab": {}
      },
      "source": [
        ""
      ],
      "execution_count": 0,
      "outputs": []
    },
    {
      "cell_type": "code",
      "metadata": {
        "id": "0mAz8C9oydlk",
        "colab_type": "code",
        "colab": {}
      },
      "source": [
        ""
      ],
      "execution_count": 0,
      "outputs": []
    },
    {
      "cell_type": "code",
      "metadata": {
        "id": "XEXRTTzVydlm",
        "colab_type": "code",
        "colab": {}
      },
      "source": [
        ""
      ],
      "execution_count": 0,
      "outputs": []
    },
    {
      "cell_type": "markdown",
      "metadata": {
        "id": "l5sNHaoYydlo",
        "colab_type": "text"
      },
      "source": [
        "### 6.3)\n",
        "Create a `keras.wrappers.scikit_learn.KerasRegressor` and pass the `build_model` function to the constructor. This gives you a Scikit-Learn compatible predictor. Try training it and using it to make predictions. Note that you can pass the `n_epochs`, `callbacks` and `validation_data` to the `fit()` method."
      ]
    },
    {
      "cell_type": "code",
      "metadata": {
        "id": "Uw66gjS7ydlo",
        "colab_type": "code",
        "colab": {}
      },
      "source": [
        ""
      ],
      "execution_count": 0,
      "outputs": []
    },
    {
      "cell_type": "code",
      "metadata": {
        "id": "o_JjlElNydlp",
        "colab_type": "code",
        "colab": {}
      },
      "source": [
        ""
      ],
      "execution_count": 0,
      "outputs": []
    },
    {
      "cell_type": "code",
      "metadata": {
        "id": "57_zKoEdydlr",
        "colab_type": "code",
        "colab": {}
      },
      "source": [
        ""
      ],
      "execution_count": 0,
      "outputs": []
    },
    {
      "cell_type": "markdown",
      "metadata": {
        "id": "gUJ6b0vrydls",
        "colab_type": "text"
      },
      "source": [
        "### 6.4)\n",
        "Use a `sklearn.model_selection.RandomizedSearchCV` to search the hyperparameter space of your `KerasRegressor`.\n",
        "\n",
        "**Tips**:\n",
        "* create a `param_distribs` dictionary where each key is the name of a hyperparameter you want to fine-tune (e.g., `\"n_hidden\"`), and each value is the list of values you want to explore (e.g., `[0, 1, 2, 3]`), or a Scipy distribution from `scipy.stats`.\n",
        "* You can use the reciprocal distribution for the learning rate (e.g, `reciprocal(3e-3, 3e-2)`).\n",
        "* Create a `RandomizedSearchCV`, passing the `KerasRegressor` and the `param_distribs` to its constructor, as well as the number of iterations (`n_iter`), and the number of cross-validation folds (`cv`). If you are short on time, you can set `n_iter=10` and `cv=3`. You may also want to set `verbose=2`.\n",
        "* Finally, call the `RandomizedSearchCV`'s `fit()` method on the training set. Once again you can pass it `n_epochs`, `validation_data` and `callbacks` if you want to.\n",
        "* The best parameters found will be available in the `best_params_` attribute, the best score will be in `best_score_`, and the best model will be in `best_estimator_`."
      ]
    },
    {
      "cell_type": "code",
      "metadata": {
        "id": "T4JJ2mNnydls",
        "colab_type": "code",
        "colab": {}
      },
      "source": [
        ""
      ],
      "execution_count": 0,
      "outputs": []
    },
    {
      "cell_type": "code",
      "metadata": {
        "id": "fXjNH4HDydlu",
        "colab_type": "code",
        "colab": {}
      },
      "source": [
        ""
      ],
      "execution_count": 0,
      "outputs": []
    },
    {
      "cell_type": "code",
      "metadata": {
        "id": "as1GPxoOydlw",
        "colab_type": "code",
        "colab": {}
      },
      "source": [
        ""
      ],
      "execution_count": 0,
      "outputs": []
    },
    {
      "cell_type": "markdown",
      "metadata": {
        "id": "-tbG7DWrydlx",
        "colab_type": "text"
      },
      "source": [
        "### 6.5)\n",
        "Evaluate the best model found on the test set. You can either use the best estimator's `score()` method, or get its underlying Keras model *via* its `model` attribute, and call this model's `evaluate()` method. Note that the estimator returns the negative mean square error (it's a score, not a loss, so higher is better)."
      ]
    },
    {
      "cell_type": "code",
      "metadata": {
        "id": "ioFGOP39ydlx",
        "colab_type": "code",
        "colab": {}
      },
      "source": [
        ""
      ],
      "execution_count": 0,
      "outputs": []
    },
    {
      "cell_type": "code",
      "metadata": {
        "id": "X9kZROQjydly",
        "colab_type": "code",
        "colab": {}
      },
      "source": [
        ""
      ],
      "execution_count": 0,
      "outputs": []
    },
    {
      "cell_type": "code",
      "metadata": {
        "id": "tCzz6wxGydl0",
        "colab_type": "code",
        "colab": {}
      },
      "source": [
        ""
      ],
      "execution_count": 0,
      "outputs": []
    },
    {
      "cell_type": "markdown",
      "metadata": {
        "id": "0MTn8fQwydl1",
        "colab_type": "text"
      },
      "source": [
        "### 6.6)\n",
        "Finally, save the best Keras model found. **Tip**: it is available via the best estimator's `model` attribute, and just need to call its `save()` method."
      ]
    },
    {
      "cell_type": "code",
      "metadata": {
        "id": "LsHbmzO4ydl3",
        "colab_type": "code",
        "colab": {}
      },
      "source": [
        ""
      ],
      "execution_count": 0,
      "outputs": []
    },
    {
      "cell_type": "code",
      "metadata": {
        "id": "v7DPncW6ydl3",
        "colab_type": "code",
        "colab": {}
      },
      "source": [
        ""
      ],
      "execution_count": 0,
      "outputs": []
    },
    {
      "cell_type": "code",
      "metadata": {
        "id": "_SrO_2Orydl5",
        "colab_type": "code",
        "colab": {}
      },
      "source": [
        ""
      ],
      "execution_count": 0,
      "outputs": []
    },
    {
      "cell_type": "markdown",
      "metadata": {
        "id": "tB1kif0jydl7",
        "colab_type": "text"
      },
      "source": [
        "**Tip**: while a randomized search is nice and simple, there are more powerful (but complex) options available out there for hyperparameter search, for example:\n",
        "* [Hyperopt](https://github.com/hyperopt/hyperopt)\n",
        "* [Hyperas](https://github.com/maxpumperla/hyperas)\n",
        "* [Sklearn-Deap](https://github.com/rsteca/sklearn-deap)\n",
        "* [Scikit-Optimize](https://scikit-optimize.github.io/)\n",
        "* [Spearmint](https://github.com/JasperSnoek/spearmint)\n",
        "* [PyMC3](https://docs.pymc.io/)\n",
        "* [GPFlow](https://gpflow.readthedocs.io/)\n",
        "* [Yelp/MOE](https://github.com/Yelp/MOE)\n",
        "* Commercial services such as: [Google Cloud ML Engine](https://cloud.google.com/ml-engine/docs/tensorflow/using-hyperparameter-tuning), [Arimo](https://arimo.com/) or [Oscar](http://oscar.calldesk.ai/)"
      ]
    },
    {
      "cell_type": "markdown",
      "metadata": {
        "id": "3n0ZVz18ydl7",
        "colab_type": "text"
      },
      "source": [
        "![Exercise solution](https://camo.githubusercontent.com/250388fde3fac9135ead9471733ee28e049f7a37/68747470733a2f2f75706c6f61642e77696b696d656469612e6f72672f77696b6970656469612f636f6d6d6f6e732f302f30362f46696c6f735f736567756e646f5f6c6f676f5f253238666c69707065642532392e6a7067)"
      ]
    },
    {
      "cell_type": "markdown",
      "metadata": {
        "id": "AuelPg-5ydl8",
        "colab_type": "text"
      },
      "source": [
        "## Exercise 6 – Solution"
      ]
    },
    {
      "cell_type": "markdown",
      "metadata": {
        "id": "lSoPARoZydl8",
        "colab_type": "text"
      },
      "source": [
        "### 6.1)\n",
        "Try training your model multiple times, with different a learning rate each time (e.g., 1e-4, 3e-4, 1e-3, 3e-3, 3e-2), and compare the learning curves. For this, you need to create a `keras.optimizers.SGD` optimizer and specify the `learning_rate` in its constructor, then pass this `SGD` instance to the `compile()` method using the `optimizer` argument."
      ]
    },
    {
      "cell_type": "code",
      "metadata": {
        "id": "Mn72FoBDydmL",
        "colab_type": "code",
        "colab": {}
      },
      "source": [
        "learning_rates = [1e-4, 3e-4, 1e-3, 3e-3, 1e-2, 3e-2]\n",
        "histories = []\n",
        "for learning_rate in learning_rates:\n",
        "    model = keras.models.Sequential([\n",
        "        keras.layers.Dense(30, activation=\"relu\", input_shape=X_train.shape[1:]),\n",
        "        keras.layers.Dense(1)\n",
        "    ])\n",
        "    optimizer = keras.optimizers.SGD(learning_rate)\n",
        "    model.compile(loss=\"mean_squared_error\", optimizer=optimizer)\n",
        "    callbacks = [keras.callbacks.EarlyStopping(patience=10)]\n",
        "    history = model.fit(X_train_scaled, y_train,\n",
        "                        validation_data=(X_valid_scaled, y_valid), epochs=100,\n",
        "                        callbacks=callbacks)\n",
        "    histories.append(history)"
      ],
      "execution_count": 0,
      "outputs": []
    },
    {
      "cell_type": "code",
      "metadata": {
        "id": "OQgBbpMOydmM",
        "colab_type": "code",
        "colab": {}
      },
      "source": [
        "for learning_rate, history in zip(learning_rates, histories):\n",
        "    print(\"Learning rate:\", learning_rate)\n",
        "    plot_learning_curves(history)"
      ],
      "execution_count": 0,
      "outputs": []
    },
    {
      "cell_type": "markdown",
      "metadata": {
        "id": "4pynldlGydmO",
        "colab_type": "text"
      },
      "source": [
        "### 6.2)\n",
        "Let's look at a more sophisticated way to tune hyperparameters. Create a `build_model()` function that takes three arguments, `n_hidden`, `n_neurons`, `learning_rate`, and builds, compiles and returns a model with the given number of hidden layers, the given number of neurons and the given learning rate. It is good practice to give a reasonable default value to each argument."
      ]
    },
    {
      "cell_type": "code",
      "metadata": {
        "id": "HsZvCMrsydmO",
        "colab_type": "code",
        "colab": {}
      },
      "source": [
        "def build_model(n_hidden=1, n_neurons=30, learning_rate=3e-3):\n",
        "    model = keras.models.Sequential()\n",
        "    options = {\"input_shape\": X_train.shape[1:]}\n",
        "    for layer in range(n_hidden + 1):\n",
        "        model.add(keras.layers.Dense(n_neurons, activation=\"relu\", **options))\n",
        "        options = {}\n",
        "    model.add(keras.layers.Dense(1, **options))\n",
        "    optimizer = keras.optimizers.SGD(learning_rate)\n",
        "    model.compile(loss=\"mse\", optimizer=optimizer)\n",
        "    return model"
      ],
      "execution_count": 0,
      "outputs": []
    },
    {
      "cell_type": "markdown",
      "metadata": {
        "id": "_NjAJNQvydmQ",
        "colab_type": "text"
      },
      "source": [
        "### 6.3)\n",
        "Create a `keras.wrappers.scikit_learn.KerasRegressor` and pass the `build_model` function to the constructor. This gives you a Scikit-Learn compatible predictor. Try training it and using it to make predictions. Note that you can pass the `n_epochs`, `callbacks` and `validation_data` to the `fit()` method."
      ]
    },
    {
      "cell_type": "code",
      "metadata": {
        "id": "GkZ5x28kydmQ",
        "colab_type": "code",
        "colab": {}
      },
      "source": [
        "keras_reg = keras.wrappers.scikit_learn.KerasRegressor(build_model)"
      ],
      "execution_count": 0,
      "outputs": []
    },
    {
      "cell_type": "code",
      "metadata": {
        "id": "X2DoUTsPydmS",
        "colab_type": "code",
        "colab": {}
      },
      "source": [
        "keras_reg.fit(X_train_scaled, y_train, epochs=100,\n",
        "              validation_data=(X_valid_scaled, y_valid),\n",
        "              callbacks=[keras.callbacks.EarlyStopping(patience=10)])"
      ],
      "execution_count": 0,
      "outputs": []
    },
    {
      "cell_type": "code",
      "metadata": {
        "id": "t0Iz_d9CydmT",
        "colab_type": "code",
        "colab": {}
      },
      "source": [
        "keras_reg.predict(X_test_scaled)"
      ],
      "execution_count": 0,
      "outputs": []
    },
    {
      "cell_type": "markdown",
      "metadata": {
        "id": "3-xUKkxvydmT",
        "colab_type": "text"
      },
      "source": [
        "### 6.4)\n",
        "Use a `sklearn.model_selection.RandomizedSearchCV` to search the hyperparameter space of your `KerasRegressor`."
      ]
    },
    {
      "cell_type": "code",
      "metadata": {
        "id": "n-qZSmfpydmU",
        "colab_type": "code",
        "colab": {}
      },
      "source": [
        "from scipy.stats import reciprocal\n",
        "\n",
        "param_distribs = {\n",
        "    \"n_hidden\": [0, 1, 2, 3],\n",
        "    \"n_neurons\": np.arange(1, 100),\n",
        "    \"learning_rate\": reciprocal(3e-4, 3e-2),\n",
        "}"
      ],
      "execution_count": 0,
      "outputs": []
    },
    {
      "cell_type": "code",
      "metadata": {
        "id": "IlxyZLyYydmW",
        "colab_type": "code",
        "colab": {}
      },
      "source": [
        "from sklearn.model_selection import RandomizedSearchCV\n",
        "\n",
        "rnd_search_cv = RandomizedSearchCV(keras_reg, param_distribs, n_iter=10, cv=3, verbose=2)"
      ],
      "execution_count": 0,
      "outputs": []
    },
    {
      "cell_type": "code",
      "metadata": {
        "id": "Mzw_hI0LydmW",
        "colab_type": "code",
        "colab": {}
      },
      "source": [
        "rnd_search_cv.fit(X_train_scaled, y_train, epochs=100,\n",
        "                  validation_data=(X_valid_scaled, y_valid),\n",
        "                  callbacks=[keras.callbacks.EarlyStopping(patience=10)])"
      ],
      "execution_count": 0,
      "outputs": []
    },
    {
      "cell_type": "code",
      "metadata": {
        "id": "UkxNGSSmydmX",
        "colab_type": "code",
        "colab": {}
      },
      "source": [
        "rnd_search_cv.best_params_"
      ],
      "execution_count": 0,
      "outputs": []
    },
    {
      "cell_type": "code",
      "metadata": {
        "id": "_WlYfJAKydmY",
        "colab_type": "code",
        "colab": {}
      },
      "source": [
        "rnd_search_cv.best_score_"
      ],
      "execution_count": 0,
      "outputs": []
    },
    {
      "cell_type": "code",
      "metadata": {
        "id": "Qq5fSnKAydmZ",
        "colab_type": "code",
        "colab": {}
      },
      "source": [
        "rnd_search_cv.best_estimator_"
      ],
      "execution_count": 0,
      "outputs": []
    },
    {
      "cell_type": "markdown",
      "metadata": {
        "id": "ilkZoXRLydmb",
        "colab_type": "text"
      },
      "source": [
        "### 6.5)\n",
        "Evaluate the best model found on the test set. You can either use the best estimator's `score()` method, or get its underlying Keras model *via* its `model` attribute, and call this model's `evaluate()` method. Note that the estimator returns the negative mean square error (it's a score, not a loss, so higher is better)."
      ]
    },
    {
      "cell_type": "code",
      "metadata": {
        "id": "0B0KtxJtydmc",
        "colab_type": "code",
        "colab": {}
      },
      "source": [
        "rnd_search_cv.score(X_test_scaled, y_test)"
      ],
      "execution_count": 0,
      "outputs": []
    },
    {
      "cell_type": "code",
      "metadata": {
        "id": "b5ameK73ydmc",
        "colab_type": "code",
        "colab": {}
      },
      "source": [
        "model = rnd_search_cv.best_estimator_.model\n",
        "model.evaluate(X_test_scaled, y_test)"
      ],
      "execution_count": 0,
      "outputs": []
    },
    {
      "cell_type": "markdown",
      "metadata": {
        "id": "iLnzvHQfydme",
        "colab_type": "text"
      },
      "source": [
        "### 6.6)\n",
        "Finally, save the best Keras model found. **Tip**: it is available via the best estimator's `model` attribute, and just need to call its `save()` method."
      ]
    },
    {
      "cell_type": "code",
      "metadata": {
        "id": "ITLg5VuDydme",
        "colab_type": "code",
        "colab": {}
      },
      "source": [
        "model.save(\"my_fine_tuned_housing_model.h5\")"
      ],
      "execution_count": 0,
      "outputs": []
    },
    {
      "cell_type": "markdown",
      "metadata": {
        "id": "lSx1c35jydmf",
        "colab_type": "text"
      },
      "source": [
        "![Exercise](https://c1.staticflickr.com/9/8101/8553474140_c50cf08708_b.jpg)"
      ]
    },
    {
      "cell_type": "markdown",
      "metadata": {
        "id": "5cxCU_6qydmf",
        "colab_type": "text"
      },
      "source": [
        "## Exercise 7 – The functional API"
      ]
    },
    {
      "cell_type": "markdown",
      "metadata": {
        "id": "3Nvlndjpydmg",
        "colab_type": "text"
      },
      "source": [
        "Not all neural network models are simply sequential. Some may have complex topologies. Some may have multiple inputs and/or multiple outputs. For example, a Wide & Deep neural network (see [paper](https://ai.google/research/pubs/pub45413)) connects all or part of the inputs directly to the output layer, as shown on the following diagram:"
      ]
    },
    {
      "cell_type": "markdown",
      "metadata": {
        "id": "V_w1x7rQydmh",
        "colab_type": "text"
      },
      "source": [
        "<img src=\"https://github.com/spdrnl/tf2_course/blob/master/images/wide_and_deep_net.png?raw=1\" title=\"Wide and deep net\" width=300 />"
      ]
    },
    {
      "cell_type": "markdown",
      "metadata": {
        "id": "bVJ3TedFydmh",
        "colab_type": "text"
      },
      "source": [
        "### 7.1)\n",
        "Use Keras' functional API to implement a Wide & Deep network to tackle the California housing problem.\n",
        "\n",
        "**Tips**:\n",
        "* You need to create a `keras.layers.Input` layer to represent the inputs. Don't forget to specify the input `shape`.\n",
        "* Create the `Dense` layers, and connect them by using them like functions. For example, `hidden1 = keras.layers.Dense(30, activation=\"relu\")(input)` and `hidden2 = keras.layers.Dense(30, activation=\"relu\")(hidden1)`\n",
        "* Use the `keras.layers.concatenate()` function to concatenate the input layer and the second hidden layer's output.\n",
        "* Create a `keras.models.Model` and specify its `inputs` and `outputs` (e.g., `inputs=[input]`).\n",
        "* Then use this model just like a `Sequential` model: you need to compile it, display its summary, train it, evaluate it and use it to make predictions."
      ]
    },
    {
      "cell_type": "code",
      "metadata": {
        "id": "XYhXMNmIydmh",
        "colab_type": "code",
        "colab": {}
      },
      "source": [
        ""
      ],
      "execution_count": 0,
      "outputs": []
    },
    {
      "cell_type": "code",
      "metadata": {
        "id": "WQYuiFDTydmi",
        "colab_type": "code",
        "colab": {}
      },
      "source": [
        ""
      ],
      "execution_count": 0,
      "outputs": []
    },
    {
      "cell_type": "code",
      "metadata": {
        "id": "ZN89_Wd0ydmk",
        "colab_type": "code",
        "colab": {}
      },
      "source": [
        ""
      ],
      "execution_count": 0,
      "outputs": []
    },
    {
      "cell_type": "markdown",
      "metadata": {
        "id": "-6GPbm4xydml",
        "colab_type": "text"
      },
      "source": [
        "### 7.2)\n",
        "After the Sequential API and the Functional API, let's try the Subclassing API:\n",
        "* Create a subclass of the `keras.models.Model` class.\n",
        "* Create all the layers you need in the constructor (e.g., `self.hidden1 = keras.layers.Dense(...)`).\n",
        "* Use the layers to process the `input` in the `call()` method, and return the output.\n",
        "* Note that you do not need to create a `keras.layers.Input` in this case.\n",
        "* Also note that `self.output` is used by Keras, so you should use another name for the output layer (e.g., `self.output_layer`).\n",
        "\n",
        "**When should you use the Subclassing API?**\n",
        "* Both the Sequential API and the Functional API are declarative: you first declare the list of layers you need and how they are connected, and only then can you feed your model with actual data. The models that these APIs build are just static graphs of layers. This has many advantages (easy inspection, debugging, saving, loading, sharing, etc.), and they cover the vast majority of use cases, but if you need to build a very dynamic model (e.g., with loops or conditional branching), or if you want to experiment with new ideas using an imperative programming style, then the Subclassing API is for you. You can pretty much do any computation you want in the `call()` method, possibly with loops and conditions, using Keras layers of even low-level TensorFlow operations.\n",
        "* However, this extra flexibility comes at the cost of less transparency. Since the model is defined within the `call()` method, Keras cannot fully inspect it. All it sees is the list of model attributes (which include the layers you define in the constructor), so when you display the model summary you just see a list of unconnected layers. Consequently, you cannot save or load the model without writing extra code. So this API is best used only when you really need the extra flexibility."
      ]
    },
    {
      "cell_type": "code",
      "metadata": {
        "id": "mRaR7ksfydml",
        "colab_type": "code",
        "colab": {}
      },
      "source": [
        "class MyModel(keras.models.Model):\n",
        "    def __init__(self):\n",
        "        super(MyModel, self).__init__()\n",
        "        # create layers here\n",
        "\n",
        "    def call(self, input):\n",
        "        # write any code here, using layers or even low-level TF code\n",
        "        return output\n",
        "\n",
        "model = MyModel()"
      ],
      "execution_count": 0,
      "outputs": []
    },
    {
      "cell_type": "code",
      "metadata": {
        "id": "2DRxlpoAydmm",
        "colab_type": "code",
        "colab": {}
      },
      "source": [
        ""
      ],
      "execution_count": 0,
      "outputs": []
    },
    {
      "cell_type": "code",
      "metadata": {
        "id": "9slCBH-Xydmn",
        "colab_type": "code",
        "colab": {}
      },
      "source": [
        ""
      ],
      "execution_count": 0,
      "outputs": []
    },
    {
      "cell_type": "code",
      "metadata": {
        "id": "CoMDmea9ydmo",
        "colab_type": "code",
        "colab": {}
      },
      "source": [
        ""
      ],
      "execution_count": 0,
      "outputs": []
    },
    {
      "cell_type": "markdown",
      "metadata": {
        "id": "vmlr2RAFydmq",
        "colab_type": "text"
      },
      "source": [
        "### 7.3)\n",
        "Now suppose you want to send only features 0 to 4 directly to the output, and only features 2 to 7 through the hidden layers, as shown on the following diagram. Use the functional API to build, train and evaluate this model.\n",
        "\n",
        "**Tips**:\n",
        "* You need to create two `keras.layers.Input` (`input_A` and `input_B`)\n",
        "* Build the model using the functional API, as above, but when you build the `keras.models.Model`, remember to set `inputs=[input_A, input_B]`\n",
        "* When calling `fit()`, `evaluate()` and  `predict()`, instead of passing `X_train_scaled`, pass `(X_train_scaled_A, X_train_scaled_B)` (two NumPy arrays containing only the appropriate features copied from `X_train_scaled`)."
      ]
    },
    {
      "cell_type": "markdown",
      "metadata": {
        "id": "lS06aHMLydmq",
        "colab_type": "text"
      },
      "source": [
        "<img src=\"https://github.com/spdrnl/tf2_course/blob/master/images/multiple_inputs.png?raw=1\" title=\"Multiple inputs\" width=300 />"
      ]
    },
    {
      "cell_type": "code",
      "metadata": {
        "id": "bmOyWf97ydmq",
        "colab_type": "code",
        "colab": {}
      },
      "source": [
        ""
      ],
      "execution_count": 0,
      "outputs": []
    },
    {
      "cell_type": "code",
      "metadata": {
        "id": "UYnmrId2ydms",
        "colab_type": "code",
        "colab": {}
      },
      "source": [
        ""
      ],
      "execution_count": 0,
      "outputs": []
    },
    {
      "cell_type": "code",
      "metadata": {
        "id": "amjV_v0nydmt",
        "colab_type": "code",
        "colab": {}
      },
      "source": [
        ""
      ],
      "execution_count": 0,
      "outputs": []
    },
    {
      "cell_type": "markdown",
      "metadata": {
        "id": "rKPf2H2vydmu",
        "colab_type": "text"
      },
      "source": [
        "### 7.4)\n",
        "Build the multi-input and multi-output neural net represented in the following diagram.\n",
        "\n",
        "<img src=\"https://github.com/spdrnl/tf2_course/blob/master/images/multiple_inputs_and_outputs.png?raw=1\" title=\"Multiple inputs and outputs\" width=400 />\n",
        "\n",
        "**Why?**\n",
        "\n",
        "There are many use cases in which having multiple outputs can be useful:\n",
        "* Your task may require multiple outputs, for example, you may want to locate and classify the main object in a picture. This is both a regression task (finding the coordinates of the object's center, as well as its width and height) and a classification task.\n",
        "* Similarly, you may have multiple independent tasks to perform based on the same data. Sure, you could train one neural network per task, but in many cases you will get better results on all tasks by training a single neural network with one output per task. This is because the neural network can learn features in the data that are useful across tasks.\n",
        "* Another use case is as a regularization technique (i.e., a training constraint whose objective is to reduce overfitting and thus improve the model's ability to generalize). For example, you may want to add some auxiliary outputs in a neural network architecture (as shown in the diagram) to ensure that that the underlying part of the network learns something useful on its own, without relying on the rest of the network.\n",
        "\n",
        "**Tips**:\n",
        "* Building the model is pretty straightforward using the functional API. Just make sure you specify both outputs when creating the `keras.models.Model`, for example `outputs=[output, aux_output]`.\n",
        "* Each output has its own loss function. In this scenario, they will be identical, so you can either specify `loss=\"mse\"` (this loss will apply to both outputs) or `loss=[\"mse\", \"mse\"]`, which does the same thing.\n",
        "* The final loss used to train the whole network is just a weighted sum of all loss functions. In this scenario, you want most to give a much smaller weight to the auxiliary output, so when compiling the model, you must specify `loss_weights=[0.9, 0.1]`.\n",
        "* When calling `fit()` or `evaluate()`, you need to pass the labels for all outputs. In this scenario the labels will be the same for the main output and for the auxiliary output, so make sure to pass `(y_train, y_train)` instead of `y_train`.\n",
        "* The `predict()` method will return both the main output and the auxiliary output."
      ]
    },
    {
      "cell_type": "code",
      "metadata": {
        "id": "5NHDq4yeydmv",
        "colab_type": "code",
        "colab": {}
      },
      "source": [
        ""
      ],
      "execution_count": 0,
      "outputs": []
    },
    {
      "cell_type": "code",
      "metadata": {
        "id": "ViEk0obxydmw",
        "colab_type": "code",
        "colab": {}
      },
      "source": [
        ""
      ],
      "execution_count": 0,
      "outputs": []
    },
    {
      "cell_type": "code",
      "metadata": {
        "id": "08lz7Clfydmx",
        "colab_type": "code",
        "colab": {}
      },
      "source": [
        ""
      ],
      "execution_count": 0,
      "outputs": []
    },
    {
      "cell_type": "markdown",
      "metadata": {
        "id": "JNxk7DLBydmy",
        "colab_type": "text"
      },
      "source": [
        "![Exercise solution](https://camo.githubusercontent.com/250388fde3fac9135ead9471733ee28e049f7a37/68747470733a2f2f75706c6f61642e77696b696d656469612e6f72672f77696b6970656469612f636f6d6d6f6e732f302f30362f46696c6f735f736567756e646f5f6c6f676f5f253238666c69707065642532392e6a7067)"
      ]
    },
    {
      "cell_type": "markdown",
      "metadata": {
        "id": "3F-7MlA0ydmz",
        "colab_type": "text"
      },
      "source": [
        "## Exercise 7 – Solution"
      ]
    },
    {
      "cell_type": "markdown",
      "metadata": {
        "id": "MJFe-XKiydmz",
        "colab_type": "text"
      },
      "source": [
        "### 7.1)\n",
        "Use Keras' functional API to implement a Wide & Deep network to tackle the California housing problem."
      ]
    },
    {
      "cell_type": "code",
      "metadata": {
        "id": "AfG_ckeoydmz",
        "colab_type": "code",
        "colab": {}
      },
      "source": [
        "input = keras.layers.Input(shape=X_train.shape[1:])\n",
        "hidden1 = keras.layers.Dense(30, activation=\"relu\")(input)\n",
        "hidden2 = keras.layers.Dense(30, activation=\"relu\")(hidden1)\n",
        "concat = keras.layers.concatenate([input, hidden2])\n",
        "output = keras.layers.Dense(1)(concat)"
      ],
      "execution_count": 0,
      "outputs": []
    },
    {
      "cell_type": "code",
      "metadata": {
        "id": "z-1DQxtNydm1",
        "colab_type": "code",
        "colab": {}
      },
      "source": [
        "model = keras.models.Model(inputs=[input], outputs=[output])"
      ],
      "execution_count": 0,
      "outputs": []
    },
    {
      "cell_type": "code",
      "metadata": {
        "id": "q0Ba6zdmydm2",
        "colab_type": "code",
        "colab": {}
      },
      "source": [
        "model.compile(loss=\"mean_squared_error\", optimizer=keras.optimizers.SGD(1e-3))"
      ],
      "execution_count": 0,
      "outputs": []
    },
    {
      "cell_type": "code",
      "metadata": {
        "id": "dT3qnKLPydm3",
        "colab_type": "code",
        "colab": {}
      },
      "source": [
        "model.summary()"
      ],
      "execution_count": 0,
      "outputs": []
    },
    {
      "cell_type": "code",
      "metadata": {
        "id": "xz5byuHBydm5",
        "colab_type": "code",
        "colab": {}
      },
      "source": [
        "history = model.fit(X_train_scaled, y_train, epochs=10,\n",
        "                    validation_data=(X_valid_scaled, y_valid))"
      ],
      "execution_count": 0,
      "outputs": []
    },
    {
      "cell_type": "code",
      "metadata": {
        "id": "4Adtwkj0ydm6",
        "colab_type": "code",
        "colab": {}
      },
      "source": [
        "model.evaluate(X_test_scaled, y_test)"
      ],
      "execution_count": 0,
      "outputs": []
    },
    {
      "cell_type": "code",
      "metadata": {
        "id": "eaNv88RUydm7",
        "colab_type": "code",
        "colab": {}
      },
      "source": [
        "model.predict(X_test_scaled)"
      ],
      "execution_count": 0,
      "outputs": []
    },
    {
      "cell_type": "markdown",
      "metadata": {
        "id": "_aAf_wjKydm9",
        "colab_type": "text"
      },
      "source": [
        "### 7.2)\n",
        "After the Sequential API and the Functional API, let's try the Subclassing API:\n",
        "* Create a subclass of the `keras.models.Model` class.\n",
        "* Create all the layers you need in the constructor (e.g., `self.hidden1 = keras.layers.Dense(...)`).\n",
        "* Use the layers to process the `input` in the `call()` method, and return the output.\n",
        "* Note that you do not need to create a `keras.layers.Input` in this case.\n",
        "* Also note that `self.output` is used by Keras, so you should use another name for the output layer (e.g., `self.output_layer`)."
      ]
    },
    {
      "cell_type": "code",
      "metadata": {
        "id": "8wE9IR0Xydm9",
        "colab_type": "code",
        "colab": {}
      },
      "source": [
        "class MyModel(keras.models.Model):\n",
        "    def __init__(self):\n",
        "        super(MyModel, self).__init__()\n",
        "        self.hidden1 = keras.layers.Dense(30, activation=\"relu\")\n",
        "        self.hidden2 = keras.layers.Dense(30, activation=\"relu\")\n",
        "        self.output_ = keras.layers.Dense(1)\n",
        "\n",
        "    def call(self, input):\n",
        "        hidden1 = self.hidden1(input)\n",
        "        hidden2 = self.hidden2(hidden1)\n",
        "        concat = keras.layers.concatenate([input, hidden2])\n",
        "        output = self.output_(concat)\n",
        "        return output\n",
        "\n",
        "model = MyModel()"
      ],
      "execution_count": 0,
      "outputs": []
    },
    {
      "cell_type": "code",
      "metadata": {
        "id": "wJAUsztqydm_",
        "colab_type": "code",
        "colab": {}
      },
      "source": [
        "model.compile(loss=\"mse\", optimizer=keras.optimizers.SGD(1e-3))"
      ],
      "execution_count": 0,
      "outputs": []
    },
    {
      "cell_type": "code",
      "metadata": {
        "id": "FU4fGBJrydm_",
        "colab_type": "code",
        "colab": {}
      },
      "source": [
        "history = model.fit(X_train_scaled, y_train, epochs=10,\n",
        "                    validation_data=(X_valid_scaled, y_valid))"
      ],
      "execution_count": 0,
      "outputs": []
    },
    {
      "cell_type": "code",
      "metadata": {
        "id": "v_doOsLgydnB",
        "colab_type": "code",
        "colab": {}
      },
      "source": [
        "model.summary()"
      ],
      "execution_count": 0,
      "outputs": []
    },
    {
      "cell_type": "code",
      "metadata": {
        "id": "5whmPziEydnC",
        "colab_type": "code",
        "colab": {}
      },
      "source": [
        "model.evaluate(X_test_scaled, y_test)"
      ],
      "execution_count": 0,
      "outputs": []
    },
    {
      "cell_type": "code",
      "metadata": {
        "id": "zDWBeq_RydnD",
        "colab_type": "code",
        "colab": {}
      },
      "source": [
        "model.predict(X_test_scaled)"
      ],
      "execution_count": 0,
      "outputs": []
    },
    {
      "cell_type": "markdown",
      "metadata": {
        "id": "zfKmjn9FydnE",
        "colab_type": "text"
      },
      "source": [
        "### 7.3)\n",
        "Now suppose you want to send only features 0 to 4 directly to the output, and only features 2 to 7 through the hidden layers, as shown on the diagram. Use the functional API to build, train and evaluate this model."
      ]
    },
    {
      "cell_type": "code",
      "metadata": {
        "id": "XVR7rAeMydnF",
        "colab_type": "code",
        "colab": {}
      },
      "source": [
        "input_A = keras.layers.Input(shape=[5])\n",
        "input_B = keras.layers.Input(shape=[6])"
      ],
      "execution_count": 0,
      "outputs": []
    },
    {
      "cell_type": "code",
      "metadata": {
        "id": "PyT8rRxgydnG",
        "colab_type": "code",
        "colab": {}
      },
      "source": [
        "hidden1 = keras.layers.Dense(30, activation=\"relu\")(input_B)\n",
        "hidden2 = keras.layers.Dense(30, activation=\"relu\")(hidden1)\n",
        "concat = keras.layers.concatenate([input_A, hidden2])\n",
        "output = keras.layers.Dense(1)(concat)"
      ],
      "execution_count": 0,
      "outputs": []
    },
    {
      "cell_type": "code",
      "metadata": {
        "id": "34XsdPdgydnH",
        "colab_type": "code",
        "colab": {}
      },
      "source": [
        "model = keras.models.Model(inputs=[input_A, input_B], outputs=[output])"
      ],
      "execution_count": 0,
      "outputs": []
    },
    {
      "cell_type": "code",
      "metadata": {
        "id": "jbk8Kt_JydnJ",
        "colab_type": "code",
        "colab": {}
      },
      "source": [
        "model.compile(loss=\"mean_squared_error\", optimizer=keras.optimizers.SGD(1e-3))"
      ],
      "execution_count": 0,
      "outputs": []
    },
    {
      "cell_type": "code",
      "metadata": {
        "id": "6XknPZ6vydnK",
        "colab_type": "code",
        "colab": {}
      },
      "source": [
        "model.summary()"
      ],
      "execution_count": 0,
      "outputs": []
    },
    {
      "cell_type": "code",
      "metadata": {
        "id": "KB2xmsFdydnL",
        "colab_type": "code",
        "colab": {}
      },
      "source": [
        "X_train_scaled_A = X_train_scaled[:, :5]\n",
        "X_train_scaled_B = X_train_scaled[:, 2:]\n",
        "X_valid_scaled_A = X_valid_scaled[:, :5]\n",
        "X_valid_scaled_B = X_valid_scaled[:, 2:]\n",
        "X_test_scaled_A = X_test_scaled[:, :5]\n",
        "X_test_scaled_B = X_test_scaled[:, 2:]"
      ],
      "execution_count": 0,
      "outputs": []
    },
    {
      "cell_type": "code",
      "metadata": {
        "id": "QzDFyfcSydnM",
        "colab_type": "code",
        "colab": {}
      },
      "source": [
        "history = model.fit([X_train_scaled_A, X_train_scaled_B], y_train, epochs=10,\n",
        "                    validation_data=([X_valid_scaled_A, X_valid_scaled_B], y_valid))"
      ],
      "execution_count": 0,
      "outputs": []
    },
    {
      "cell_type": "code",
      "metadata": {
        "id": "z41wJVctydnN",
        "colab_type": "code",
        "colab": {}
      },
      "source": [
        "model.evaluate([X_test_scaled_A, X_test_scaled_B], y_test)"
      ],
      "execution_count": 0,
      "outputs": []
    },
    {
      "cell_type": "code",
      "metadata": {
        "id": "bRVOiyW2ydnO",
        "colab_type": "code",
        "colab": {}
      },
      "source": [
        "model.predict([X_test_scaled_A, X_test_scaled_B])"
      ],
      "execution_count": 0,
      "outputs": []
    },
    {
      "cell_type": "markdown",
      "metadata": {
        "id": "BYzTJxDRydnQ",
        "colab_type": "text"
      },
      "source": [
        "### 7.4)\n",
        "Build the multi-input and multi-output neural net represented in the diagram."
      ]
    },
    {
      "cell_type": "code",
      "metadata": {
        "id": "s_jlaLmzydnQ",
        "colab_type": "code",
        "colab": {}
      },
      "source": [
        "input_A = keras.layers.Input(shape=X_train_scaled_A.shape[1:])\n",
        "input_B = keras.layers.Input(shape=X_train_scaled_B.shape[1:])\n",
        "hidden1 = keras.layers.Dense(30, activation=\"relu\")(input_B)\n",
        "hidden2 = keras.layers.Dense(30, activation=\"relu\")(hidden1)\n",
        "concat = keras.layers.concatenate([input_A, hidden2])\n",
        "output = keras.layers.Dense(1)(concat)\n",
        "aux_output = keras.layers.Dense(1)(hidden2)"
      ],
      "execution_count": 0,
      "outputs": []
    },
    {
      "cell_type": "code",
      "metadata": {
        "id": "HS1v3bXaydnR",
        "colab_type": "code",
        "colab": {}
      },
      "source": [
        "model = keras.models.Model(inputs=[input_A, input_B],\n",
        "                           outputs=[output, aux_output])"
      ],
      "execution_count": 0,
      "outputs": []
    },
    {
      "cell_type": "code",
      "metadata": {
        "id": "btvVT77oydnS",
        "colab_type": "code",
        "colab": {}
      },
      "source": [
        "model.compile(loss=\"mean_squared_error\", loss_weights=[0.9, 0.1],\n",
        "              optimizer=keras.optimizers.SGD(1e-3))"
      ],
      "execution_count": 0,
      "outputs": []
    },
    {
      "cell_type": "code",
      "metadata": {
        "id": "JODm0hVJydnT",
        "colab_type": "code",
        "colab": {}
      },
      "source": [
        "model.summary()"
      ],
      "execution_count": 0,
      "outputs": []
    },
    {
      "cell_type": "code",
      "metadata": {
        "id": "nDHoxYQxydnV",
        "colab_type": "code",
        "colab": {}
      },
      "source": [
        "history = model.fit([X_train_scaled_A, X_train_scaled_B], [y_train, y_train], epochs=10,\n",
        "                    validation_data=([X_valid_scaled_A, X_valid_scaled_B], [y_valid, y_valid]))"
      ],
      "execution_count": 0,
      "outputs": []
    },
    {
      "cell_type": "code",
      "metadata": {
        "id": "cFSMq5G3ydnW",
        "colab_type": "code",
        "colab": {}
      },
      "source": [
        "model.evaluate([X_test_scaled_A, X_test_scaled_B], [y_test, y_test])"
      ],
      "execution_count": 0,
      "outputs": []
    },
    {
      "cell_type": "code",
      "metadata": {
        "id": "w8vZXet5ydnX",
        "colab_type": "code",
        "colab": {}
      },
      "source": [
        "y_pred, y_pred_aux = model.predict([X_test_scaled_A, X_test_scaled_B])"
      ],
      "execution_count": 0,
      "outputs": []
    },
    {
      "cell_type": "code",
      "metadata": {
        "id": "PV_tR9oVydnZ",
        "colab_type": "code",
        "colab": {}
      },
      "source": [
        "y_pred"
      ],
      "execution_count": 0,
      "outputs": []
    },
    {
      "cell_type": "code",
      "metadata": {
        "scrolled": true,
        "id": "U7L6uYtxydnZ",
        "colab_type": "code",
        "colab": {}
      },
      "source": [
        "y_pred_aux"
      ],
      "execution_count": 0,
      "outputs": []
    },
    {
      "cell_type": "markdown",
      "metadata": {
        "id": "g01_wINmydnb",
        "colab_type": "text"
      },
      "source": [
        "![Exercise](https://c1.staticflickr.com/9/8101/8553474140_c50cf08708_b.jpg)"
      ]
    },
    {
      "cell_type": "markdown",
      "metadata": {
        "id": "Gc3otBfFydnb",
        "colab_type": "text"
      },
      "source": [
        "## Exercise 8 – Deep Nets"
      ]
    },
    {
      "cell_type": "markdown",
      "metadata": {
        "id": "egIGrkLMydnc",
        "colab_type": "text"
      },
      "source": [
        "Let's go back to Fashion MNIST and build deep nets to tackle it. We need to load it, split it and scale it."
      ]
    },
    {
      "cell_type": "code",
      "metadata": {
        "id": "jTwQ6V5dydnc",
        "colab_type": "code",
        "colab": {}
      },
      "source": [
        "fashion_mnist = keras.datasets.fashion_mnist\n",
        "(X_train_full, y_train_full), (X_test, y_test) = fashion_mnist.load_data()\n",
        "X_valid, X_train = X_train_full[:5000], X_train_full[5000:]\n",
        "y_valid, y_train = y_train_full[:5000], y_train_full[5000:]"
      ],
      "execution_count": 0,
      "outputs": []
    },
    {
      "cell_type": "code",
      "metadata": {
        "id": "oCdWTIEMydnd",
        "colab_type": "code",
        "colab": {}
      },
      "source": [
        "from sklearn.preprocessing import StandardScaler\n",
        "\n",
        "scaler = StandardScaler()\n",
        "X_train_scaled = scaler.fit_transform(X_train.astype(np.float32).reshape(-1, 28 * 28)).reshape(-1, 28, 28)\n",
        "X_valid_scaled = scaler.transform(X_valid.astype(np.float32).reshape(-1, 28 * 28)).reshape(-1, 28, 28)\n",
        "X_test_scaled = scaler.transform(X_test.astype(np.float32).reshape(-1, 28 * 28)).reshape(-1, 28, 28)"
      ],
      "execution_count": 0,
      "outputs": []
    },
    {
      "cell_type": "markdown",
      "metadata": {
        "id": "MDAOaXuoydne",
        "colab_type": "text"
      },
      "source": [
        "### 8.1)\n",
        "Build a sequential model with 20 hidden dense layers, with 100 neurons each, using the ReLU activation function, plus the output layer (10 neurons, softmax activation function). Try to train it for 10 epochs on Fashion MNIST and plot the learning curves. Notice that progress is very slow."
      ]
    },
    {
      "cell_type": "code",
      "metadata": {
        "id": "KKZqd3nDydne",
        "colab_type": "code",
        "colab": {}
      },
      "source": [
        ""
      ],
      "execution_count": 0,
      "outputs": []
    },
    {
      "cell_type": "code",
      "metadata": {
        "id": "2NLuVqPJydng",
        "colab_type": "code",
        "colab": {}
      },
      "source": [
        ""
      ],
      "execution_count": 0,
      "outputs": []
    },
    {
      "cell_type": "code",
      "metadata": {
        "id": "atia3zBSydnh",
        "colab_type": "code",
        "colab": {}
      },
      "source": [
        ""
      ],
      "execution_count": 0,
      "outputs": []
    },
    {
      "cell_type": "markdown",
      "metadata": {
        "id": "vfwqOZ13ydni",
        "colab_type": "text"
      },
      "source": [
        "### 8.2)\n",
        "Update the model to add a `BatchNormalization` layer after every hidden layer. Notice that performance progresses much faster per epoch, although computations are much more intensive. Display the model summary and notice all the non-trainable parameters (the scale $\\gamma$ and offset $\\beta$ parameters)."
      ]
    },
    {
      "cell_type": "code",
      "metadata": {
        "id": "t697ySb8ydni",
        "colab_type": "code",
        "colab": {}
      },
      "source": [
        ""
      ],
      "execution_count": 0,
      "outputs": []
    },
    {
      "cell_type": "code",
      "metadata": {
        "id": "nim6SCfAydnj",
        "colab_type": "code",
        "colab": {}
      },
      "source": [
        ""
      ],
      "execution_count": 0,
      "outputs": []
    },
    {
      "cell_type": "code",
      "metadata": {
        "id": "lAZzJ4Rxydnl",
        "colab_type": "code",
        "colab": {}
      },
      "source": [
        ""
      ],
      "execution_count": 0,
      "outputs": []
    },
    {
      "cell_type": "markdown",
      "metadata": {
        "id": "8Ha_i8Ejydnl",
        "colab_type": "text"
      },
      "source": [
        "### 8.3)\n",
        "Try moving the BN layers before the hidden layers' activation functions. Does this affect the model's performance?"
      ]
    },
    {
      "cell_type": "code",
      "metadata": {
        "id": "ZukRtmF2ydnm",
        "colab_type": "code",
        "colab": {}
      },
      "source": [
        ""
      ],
      "execution_count": 0,
      "outputs": []
    },
    {
      "cell_type": "code",
      "metadata": {
        "id": "lY_U_nrCydnn",
        "colab_type": "code",
        "colab": {}
      },
      "source": [
        ""
      ],
      "execution_count": 0,
      "outputs": []
    },
    {
      "cell_type": "code",
      "metadata": {
        "id": "X_YYTtfmydnp",
        "colab_type": "code",
        "colab": {}
      },
      "source": [
        ""
      ],
      "execution_count": 0,
      "outputs": []
    },
    {
      "cell_type": "markdown",
      "metadata": {
        "id": "-VeVSEBaydnp",
        "colab_type": "text"
      },
      "source": [
        "### 8.4)\n",
        "Remove all the BN layers, and just use the SELU activation function instead (always use SELU with LeCun Normal weight initialization). Notice that you get better performance than with BN but training is much faster. Isn't it marvelous? :-)"
      ]
    },
    {
      "cell_type": "code",
      "metadata": {
        "id": "M2mEhpVuydnp",
        "colab_type": "code",
        "colab": {}
      },
      "source": [
        ""
      ],
      "execution_count": 0,
      "outputs": []
    },
    {
      "cell_type": "code",
      "metadata": {
        "id": "HgHwiUaRydnr",
        "colab_type": "code",
        "colab": {}
      },
      "source": [
        ""
      ],
      "execution_count": 0,
      "outputs": []
    },
    {
      "cell_type": "code",
      "metadata": {
        "id": "M3_Wasqpydns",
        "colab_type": "code",
        "colab": {}
      },
      "source": [
        ""
      ],
      "execution_count": 0,
      "outputs": []
    },
    {
      "cell_type": "markdown",
      "metadata": {
        "id": "VnRUgMCGydnt",
        "colab_type": "text"
      },
      "source": [
        "### 8.5)\n",
        "Try training for 10 additional epochs, and notice that the model starts overfitting. Try adding a Dropout layer (with a 50% dropout rate) just before the output layer. Does it reduce overfitting? What about the final validation accuracy?\n",
        "\n",
        "**Warning**: you should not use regular Dropout, as it breaks the self-normalizing property of the SELU activation function. Instead, use AlphaDropout, which is designed to work with SELU."
      ]
    },
    {
      "cell_type": "code",
      "metadata": {
        "id": "fYfmBw-qydnt",
        "colab_type": "code",
        "colab": {}
      },
      "source": [
        ""
      ],
      "execution_count": 0,
      "outputs": []
    },
    {
      "cell_type": "code",
      "metadata": {
        "id": "iC8wuUhuydnv",
        "colab_type": "code",
        "colab": {}
      },
      "source": [
        ""
      ],
      "execution_count": 0,
      "outputs": []
    },
    {
      "cell_type": "code",
      "metadata": {
        "id": "-C3mkM-fydnv",
        "colab_type": "code",
        "colab": {}
      },
      "source": [
        ""
      ],
      "execution_count": 0,
      "outputs": []
    },
    {
      "cell_type": "markdown",
      "metadata": {
        "id": "YN3AUaydydnw",
        "colab_type": "text"
      },
      "source": [
        "![Exercise solution](https://camo.githubusercontent.com/250388fde3fac9135ead9471733ee28e049f7a37/68747470733a2f2f75706c6f61642e77696b696d656469612e6f72672f77696b6970656469612f636f6d6d6f6e732f302f30362f46696c6f735f736567756e646f5f6c6f676f5f253238666c69707065642532392e6a7067)"
      ]
    },
    {
      "cell_type": "markdown",
      "metadata": {
        "id": "VVbYD__Oydnw",
        "colab_type": "text"
      },
      "source": [
        "## Exercise 8 – Solution"
      ]
    },
    {
      "cell_type": "markdown",
      "metadata": {
        "id": "ndLl_HXHydnx",
        "colab_type": "text"
      },
      "source": [
        "### 8.1)\n",
        "Build a sequential model with 20 hidden dense layers, with 100 neurons each, using the ReLU activation function, plus the output layer (10 neurons, softmax activation function). Try to train it for 10 epochs on Fashion MNIST and plot the learning curves. Notice that progress is very slow."
      ]
    },
    {
      "cell_type": "code",
      "metadata": {
        "id": "7AyXMv5-ydnx",
        "colab_type": "code",
        "colab": {}
      },
      "source": [
        "model = keras.models.Sequential()\n",
        "model.add(keras.layers.Flatten(input_shape=[28, 28]))\n",
        "for _ in range(20):\n",
        "    model.add(keras.layers.Dense(100, activation=\"relu\"))\n",
        "model.add(keras.layers.Dense(10, activation=\"softmax\"))\n",
        "model.compile(loss=\"sparse_categorical_crossentropy\", optimizer=keras.optimizers.SGD(1e-3),\n",
        "              metrics=[\"accuracy\"])\n",
        "history = model.fit(X_train_scaled, y_train, epochs=10,\n",
        "                    validation_data=(X_valid_scaled, y_valid))\n",
        "plot_learning_curves(history)"
      ],
      "execution_count": 0,
      "outputs": []
    },
    {
      "cell_type": "markdown",
      "metadata": {
        "id": "xfh_x7sNydnz",
        "colab_type": "text"
      },
      "source": [
        "### 8.2)\n",
        "Update the model to add a `BatchNormalization` layer after every hidden layer. Notice that performance progresses much faster per epoch, although computations are much more intensive. Display the model summary and notice all the non-trainable parameters (the scale $\\gamma$ and offset $\\beta$ parameters)."
      ]
    },
    {
      "cell_type": "code",
      "metadata": {
        "id": "AE4ndjgsydnz",
        "colab_type": "code",
        "colab": {}
      },
      "source": [
        "model = keras.models.Sequential()\n",
        "model.add(keras.layers.Flatten(input_shape=[28, 28]))\n",
        "for _ in range(20):\n",
        "    model.add(keras.layers.Dense(100, activation=\"relu\"))\n",
        "    model.add(keras.layers.BatchNormalization())\n",
        "model.add(keras.layers.Dense(10, activation=\"softmax\"))\n",
        "model.compile(loss=\"sparse_categorical_crossentropy\", optimizer=keras.optimizers.SGD(1e-3),\n",
        "              metrics=[\"accuracy\"])\n",
        "history = model.fit(X_train_scaled, y_train, epochs=10,\n",
        "                    validation_data=(X_valid_scaled, y_valid))\n",
        "plot_learning_curves(history)"
      ],
      "execution_count": 0,
      "outputs": []
    },
    {
      "cell_type": "code",
      "metadata": {
        "id": "kNkjutm3ydn0",
        "colab_type": "code",
        "colab": {}
      },
      "source": [
        "model.summary()"
      ],
      "execution_count": 0,
      "outputs": []
    },
    {
      "cell_type": "markdown",
      "metadata": {
        "id": "-bEh_SNJydn2",
        "colab_type": "text"
      },
      "source": [
        "### 8.3)\n",
        "Try moving the BN layers before the hidden layers' activation functions. Does this affect the model's performance?"
      ]
    },
    {
      "cell_type": "code",
      "metadata": {
        "id": "H5m_AqFCydn2",
        "colab_type": "code",
        "colab": {}
      },
      "source": [
        "model = keras.models.Sequential()\n",
        "model.add(keras.layers.Flatten(input_shape=[28, 28]))\n",
        "for _ in range(20):\n",
        "    model.add(keras.layers.Dense(100))\n",
        "    model.add(keras.layers.BatchNormalization())\n",
        "    model.add(keras.layers.Activation(\"relu\"))\n",
        "model.add(keras.layers.Dense(10, activation=\"softmax\"))\n",
        "model.compile(loss=\"sparse_categorical_crossentropy\", optimizer=keras.optimizers.SGD(1e-3),\n",
        "              metrics=[\"accuracy\"])\n",
        "history = model.fit(X_train_scaled, y_train, epochs=10,\n",
        "                    validation_data=(X_valid_scaled, y_valid))\n",
        "plot_learning_curves(history)"
      ],
      "execution_count": 0,
      "outputs": []
    },
    {
      "cell_type": "markdown",
      "metadata": {
        "id": "TfoT_8ARydoG",
        "colab_type": "text"
      },
      "source": [
        "### 8.4)\n",
        "Remove all the BN layers, and just use the SELU activation function instead (always use SELU with LeCun Normal weight initialization). Notice that you get better performance than with BN but training is much faster. Isn't it marvelous? :-)"
      ]
    },
    {
      "cell_type": "code",
      "metadata": {
        "id": "9OAWdEFmydoG",
        "colab_type": "code",
        "colab": {}
      },
      "source": [
        "model = keras.models.Sequential()\n",
        "model.add(keras.layers.Flatten(input_shape=[28, 28]))\n",
        "for _ in range(20):\n",
        "    model.add(keras.layers.Dense(100, activation=\"selu\",\n",
        "                                 kernel_initializer=\"lecun_normal\"))\n",
        "model.add(keras.layers.Dense(10, activation=\"softmax\"))\n",
        "model.compile(loss=\"sparse_categorical_crossentropy\", optimizer=keras.optimizers.SGD(1e-3),\n",
        "              metrics=[\"accuracy\"])\n",
        "history = model.fit(X_train_scaled, y_train, epochs=10,\n",
        "                    validation_data=(X_valid_scaled, y_valid))\n",
        "plot_learning_curves(history)"
      ],
      "execution_count": 0,
      "outputs": []
    },
    {
      "cell_type": "markdown",
      "metadata": {
        "id": "iJ-5J_IuydoH",
        "colab_type": "text"
      },
      "source": [
        "### 8.5)\n",
        "Try training for 10 additional epochs, and notice that the model starts overfitting. Try adding a Dropout layer (with a 50% dropout rate) just before the output layer. Does it reduce overfitting? What about the final validation accuracy?"
      ]
    },
    {
      "cell_type": "code",
      "metadata": {
        "id": "AhNqUl_JydoH",
        "colab_type": "code",
        "colab": {}
      },
      "source": [
        "history = model.fit(X_train_scaled, y_train, epochs=10,\n",
        "                    validation_data=(X_valid_scaled, y_valid))\n",
        "plot_learning_curves(history)"
      ],
      "execution_count": 0,
      "outputs": []
    },
    {
      "cell_type": "code",
      "metadata": {
        "id": "-6pfornLydoJ",
        "colab_type": "code",
        "colab": {}
      },
      "source": [
        "model = keras.models.Sequential()\n",
        "model.add(keras.layers.Flatten(input_shape=[28, 28]))\n",
        "for _ in range(20):\n",
        "    model.add(keras.layers.Dense(100, activation=\"selu\",\n",
        "                                 kernel_initializer=\"lecun_normal\"))\n",
        "model.add(keras.layers.AlphaDropout(rate=0.5))\n",
        "model.add(keras.layers.Dense(10, activation=\"softmax\"))\n",
        "model.compile(loss=\"sparse_categorical_crossentropy\", optimizer=keras.optimizers.SGD(1e-3),\n",
        "              metrics=[\"accuracy\"])\n",
        "history = model.fit(X_train_scaled, y_train, epochs=20,\n",
        "                    validation_data=(X_valid_scaled, y_valid))\n",
        "plot_learning_curves(history)"
      ],
      "execution_count": 0,
      "outputs": []
    },
    {
      "cell_type": "code",
      "metadata": {
        "id": "N9YhxGisydoK",
        "colab_type": "code",
        "colab": {}
      },
      "source": [
        ""
      ],
      "execution_count": 0,
      "outputs": []
    }
  ]
}